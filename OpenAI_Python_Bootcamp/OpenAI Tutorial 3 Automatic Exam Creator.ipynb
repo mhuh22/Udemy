{
 "cells": [
  {
   "cell_type": "markdown",
   "metadata": {},
   "source": [
    "### 3. Automatic Exam Creator\n",
    "\n",
    "* OpenAI Use Case - completion API, can be used for text/story completion\n",
    "* Prompt engineering - how to get certain results from the LLM"
   ]
  },
  {
   "cell_type": "code",
   "execution_count": 1,
   "metadata": {},
   "outputs": [],
   "source": [
    "import os\n",
    "import openai"
   ]
  },
  {
   "cell_type": "code",
   "execution_count": 2,
   "metadata": {},
   "outputs": [],
   "source": [
    "# Import and pass api key\n",
    "with open(r'C:\\Users\\mhuh22\\Desktop\\openai_api.txt', 'r') as file:\n",
    "    api_key = file.readline().strip()\n",
    "os.environ['OPENAI_API_KEY'] = api_key\n",
    "openai.api_key = os.getenv('OPENAI_API_KEY')"
   ]
  },
  {
   "cell_type": "code",
   "execution_count": 11,
   "metadata": {},
   "outputs": [],
   "source": [
    "def create_test_prompt(topic, num_questions, num_possible_answers):\n",
    "    prompt = f\"Create a multiple choice quiz on the topic of {topic} \"\\\n",
    "    +f\"consisting of {num_questions} questions \"\\\n",
    "    +f\"Each question should have {num_possible_answers} options. \"\\\n",
    "    +f\"Also include the correct answer for each question \"\\\n",
    "    +f\"using the starting string 'Correct Answer: '\"\n",
    "    \n",
    "    return prompt"
   ]
  },
  {
   "cell_type": "code",
   "execution_count": 19,
   "metadata": {},
   "outputs": [],
   "source": [
    "prompt = create_test_prompt('US History',4,4)"
   ]
  },
  {
   "cell_type": "code",
   "execution_count": 20,
   "metadata": {},
   "outputs": [],
   "source": [
    "# Send a query\n",
    "response = openai.Completion.create(\n",
    "    model = 'text-davinci-003',\n",
    "    prompt = prompt,\n",
    "    max_tokens = 256,\n",
    "    temperature = 0.7\n",
    ")"
   ]
  },
  {
   "cell_type": "code",
   "execution_count": 36,
   "metadata": {},
   "outputs": [],
   "source": [
    "# Response comes out in json, print in readable format\n",
    "test = response['choices'][0]['text']"
   ]
  },
  {
   "cell_type": "code",
   "execution_count": 26,
   "metadata": {},
   "outputs": [],
   "source": [
    "def create_student_view(test, num_questions):\n",
    "    student_view ={1:''}\n",
    "    question_number = 1\n",
    "    for line in test.split(\"\\n\"):\n",
    "        if not line.startswith(\"Correct Answer:\"):\n",
    "            student_view[question_number] += line + '\\n'\n",
    "        else:\n",
    "            if question_number < num_questions:\n",
    "                question_number += 1\n",
    "                student_view[question_number] = ' '\n",
    "    return student_view"
   ]
  },
  {
   "cell_type": "code",
   "execution_count": 30,
   "metadata": {},
   "outputs": [
    {
     "name": "stdout",
     "output_type": "stream",
     "text": [
      "\n",
      "\n",
      "Question 1: What year did the United States of America declare their independence?\n",
      "A. 1762\n",
      "B. 1776\n",
      "C. 1789\n",
      "D. 1812\n",
      "\n",
      " \n",
      "Question 2: Who was the first president of the United States?\n",
      "A. Thomas Jefferson\n",
      "B. George Washington\n",
      "C. Abraham Lincoln\n",
      "D. John Adams\n",
      "\n",
      " \n",
      "Question 3: When did the American Civil War begin?\n",
      "A. 1861\n",
      "B. 1864\n",
      "C. 1868\n",
      "D. 1877\n",
      "\n",
      " \n",
      "Question 4: What amendment to the US Constitution abolished slavery?\n",
      "A. Thirteenth Amendment\n",
      "B. Fourteenth Amendment\n",
      "C. Fifteenth Amendment\n",
      "D. Sixteenth Amendment\n",
      "\n"
     ]
    }
   ],
   "source": [
    "# View only the questions\n",
    "result = create_student_view(response['choices'][0]['text'],4)\n",
    "\n",
    "for key in result:\n",
    "    print(result[key])"
   ]
  },
  {
   "cell_type": "code",
   "execution_count": 55,
   "metadata": {},
   "outputs": [
    {
     "data": {
      "text/plain": [
       "'\\n\\nQuestion 1: What year did the United States of America declare their independence?\\nA. 1762\\nB. 1776\\nC. 1789\\nD. 1812\\nCorrect Answer: B. 1776\\n\\nQuestion 2: Who was the first president of the United States?\\nA. Thomas Jefferson\\nB. George Washington\\nC. Abraham Lincoln\\nD. John Adams\\nCorrect Answer: B. George Washington\\n\\nQuestion 3: When did the American Civil War begin?\\nA. 1861\\nB. 1864\\nC. 1868\\nD. 1877\\nCorrect Answer: A. 1861\\n\\nQuestion 4: What amendment to the US Constitution abolished slavery?\\nA. Thirteenth Amendment\\nB. Fourteenth Amendment\\nC. Fifteenth Amendment\\nD. Sixteenth Amendment\\nCorrect Answer: A. Thirteenth Amendment'"
      ]
     },
     "execution_count": 55,
     "metadata": {},
     "output_type": "execute_result"
    }
   ],
   "source": [
    "test"
   ]
  },
  {
   "cell_type": "code",
   "execution_count": 67,
   "metadata": {},
   "outputs": [
    {
     "name": "stdout",
     "output_type": "stream",
     "text": [
      "Correct Answer: B. 1776\n",
      "Correct Answer: B. George Washington\n",
      "Correct Answer: A. 1861\n",
      "Correct Answer: A. Thirteenth Amendment\n"
     ]
    }
   ],
   "source": [
    "for line in test.split(\"\\n\"):\n",
    "    if line.startswith(\"Correct Answer:\"):\n",
    "        print(line)"
   ]
  },
  {
   "cell_type": "code",
   "execution_count": 74,
   "metadata": {},
   "outputs": [],
   "source": [
    "def extract_answer(test, num_questions):\n",
    "    answers ={1:''}\n",
    "    question_number = 1\n",
    "    for line in test.split(\"\\n\"):\n",
    "        if line.startswith(\"Correct Answer:\"):\n",
    "            answers[question_number] += line + '\\n'\n",
    "        \n",
    "            if question_number < num_questions:\n",
    "                question_number += 1\n",
    "                answers[question_number] = ' '\n",
    "    return answers"
   ]
  },
  {
   "cell_type": "code",
   "execution_count": 76,
   "metadata": {},
   "outputs": [
    {
     "data": {
      "text/plain": [
       "{1: 'Correct Answer: B. 1776\\n',\n",
       " 2: ' Correct Answer: B. George Washington\\n',\n",
       " 3: ' Correct Answer: A. 1861\\n',\n",
       " 4: ' Correct Answer: A. Thirteenth Amendment\\n'}"
      ]
     },
     "execution_count": 76,
     "metadata": {},
     "output_type": "execute_result"
    }
   ],
   "source": [
    "extract_answer(response['choices'][0]['text'],4)"
   ]
  },
  {
   "cell_type": "code",
   "execution_count": 37,
   "metadata": {},
   "outputs": [],
   "source": [
    "student_view = create_student_view(test,4)"
   ]
  },
  {
   "cell_type": "code",
   "execution_count": 38,
   "metadata": {},
   "outputs": [],
   "source": [
    "answers = extract_answer(test,4)"
   ]
  },
  {
   "cell_type": "code",
   "execution_count": 39,
   "metadata": {},
   "outputs": [],
   "source": [
    "# Take the exam\n",
    "def take(student_view):\n",
    "    student_answers = {}\n",
    "    for question, question_view in student_view.items():\n",
    "        print(question_view)\n",
    "        answer = input('Enter your answer: ')\n",
    "        student_answers[question] = answer\n",
    "    return student_answers"
   ]
  },
  {
   "cell_type": "code",
   "execution_count": 47,
   "metadata": {},
   "outputs": [
    {
     "name": "stdout",
     "output_type": "stream",
     "text": [
      "\n",
      "\n",
      "Question 1: What year did the United States of America declare their independence?\n",
      "A. 1762\n",
      "B. 1776\n",
      "C. 1789\n",
      "D. 1812\n",
      "\n",
      "Enter your answer: B\n",
      " \n",
      "Question 2: Who was the first president of the United States?\n",
      "A. Thomas Jefferson\n",
      "B. George Washington\n",
      "C. Abraham Lincoln\n",
      "D. John Adams\n",
      "\n",
      "Enter your answer: B\n",
      " \n",
      "Question 3: When did the American Civil War begin?\n",
      "A. 1861\n",
      "B. 1864\n",
      "C. 1868\n",
      "D. 1877\n",
      "\n",
      "Enter your answer: 1871\n",
      " \n",
      "Question 4: What amendment to the US Constitution abolished slavery?\n",
      "A. Thirteenth Amendment\n",
      "B. Fourteenth Amendment\n",
      "C. Fifteenth Amendment\n",
      "D. Sixteenth Amendment\n",
      "\n",
      "Enter your answer: A\n"
     ]
    }
   ],
   "source": [
    "student_answers = take(student_view)"
   ]
  },
  {
   "cell_type": "code",
   "execution_count": 53,
   "metadata": {},
   "outputs": [
    {
     "data": {
      "text/plain": [
       "' Correct Answer: B. George Washington\\n'"
      ]
     },
     "execution_count": 53,
     "metadata": {},
     "output_type": "execute_result"
    }
   ],
   "source": [
    "answers[2]"
   ]
  },
  {
   "cell_type": "code",
   "execution_count": 51,
   "metadata": {},
   "outputs": [
    {
     "data": {
      "text/plain": [
       "{1: 'B', 2: 'B', 3: '1871', 4: 'A'}"
      ]
     },
     "execution_count": 51,
     "metadata": {},
     "output_type": "execute_result"
    }
   ],
   "source": [
    "student_answers"
   ]
  },
  {
   "cell_type": "code",
   "execution_count": 48,
   "metadata": {},
   "outputs": [],
   "source": [
    "def grade(correct_answer_dict, answers):\n",
    "    correct_answers = 0\n",
    "    for question,answer in student_answers.items():\n",
    "        if answer.upper() == correct_answer_dict[question][16]:\n",
    "            correct_answers += 1\n",
    "    \n",
    "    grade = 100*correct_answers / len(answers)\n",
    "    \n",
    "    if grade < 60:\n",
    "        passed = 'Fail'\n",
    "    else:\n",
    "        passed = 'Pass'\n",
    "        \n",
    "    return f\"{correct_answers} / {len(answers)} correct! You got {grade} grade, {passed}\""
   ]
  },
  {
   "cell_type": "code",
   "execution_count": 49,
   "metadata": {},
   "outputs": [
    {
     "data": {
      "text/plain": [
       "'1 / 4 correct! You got 25.0 grade, Fail'"
      ]
     },
     "execution_count": 49,
     "metadata": {},
     "output_type": "execute_result"
    }
   ],
   "source": [
    "grade(answers, student_answers)"
   ]
  },
  {
   "cell_type": "code",
   "execution_count": null,
   "metadata": {},
   "outputs": [],
   "source": []
  }
 ],
 "metadata": {
  "kernelspec": {
   "display_name": "Python 3",
   "language": "python",
   "name": "python3"
  },
  "language_info": {
   "codemirror_mode": {
    "name": "ipython",
    "version": 3
   },
   "file_extension": ".py",
   "mimetype": "text/x-python",
   "name": "python",
   "nbconvert_exporter": "python",
   "pygments_lexer": "ipython3",
   "version": "3.7.0"
  }
 },
 "nbformat": 4,
 "nbformat_minor": 2
}
