{
 "cells": [
  {
   "cell_type": "markdown",
   "id": "a7242d94",
   "metadata": {},
   "source": [
    "### 2.6. Working with text files w/ Python p1"
   ]
  },
  {
   "cell_type": "code",
   "execution_count": 1,
   "id": "ba56cb1a",
   "metadata": {},
   "outputs": [
    {
     "name": "stdout",
     "output_type": "stream",
     "text": [
      "my name is Matt\n"
     ]
    }
   ],
   "source": [
    "person = 'Matt'\n",
    "\n",
    "print('my name is {}'.format(person))\n",
    "\n",
    "# Alternatively, using f-string\n",
    "print(f'my name is {person}')"
   ]
  },
  {
   "cell_type": "code",
   "execution_count": 6,
   "id": "1595edbc",
   "metadata": {},
   "outputs": [
    {
     "name": "stdout",
     "output_type": "stream",
     "text": [
      "my number is 123\n"
     ]
    }
   ],
   "source": [
    "d = {'a':123, 'b':456}\n",
    "\n",
    "print(f\"my number is {d['a']}\")"
   ]
  },
  {
   "cell_type": "code",
   "execution_count": 23,
   "id": "8cc41de6",
   "metadata": {},
   "outputs": [],
   "source": [
    "library = [('Author','Topic','Pages'),\n",
    "          ('Twain','Rafting in water alone',601),\n",
    "          ('Feyman','Physics',95)]"
   ]
  },
  {
   "cell_type": "code",
   "execution_count": 17,
   "id": "80830243",
   "metadata": {},
   "outputs": [
    {
     "name": "stdout",
     "output_type": "stream",
     "text": [
      "Author is Author\n",
      "Author is Twain\n",
      "Author is Feyman\n"
     ]
    }
   ],
   "source": [
    "for book in library:\n",
    "    print(f\"Author is {book[0]}\")"
   ]
  },
  {
   "cell_type": "code",
   "execution_count": 26,
   "id": "159531d4",
   "metadata": {},
   "outputs": [
    {
     "name": "stdout",
     "output_type": "stream",
     "text": [
      "Author     Topic                          -----Pages\n",
      "Twain      Rafting in water alone         -------601\n",
      "Feyman     Physics                        --------95\n"
     ]
    }
   ],
   "source": [
    "# Note 1: {topic:{30}} means that this row will take up at least 30 spaces (using whitepace)\n",
    "# Note 2: pages:-> means that pages is right-aligned, and will fill up with '-' rather than whitespace\n",
    "for author,topic,pages in library:\n",
    "    print(f\"{author:{10}} {topic:{30}} {pages:->{10}}\")"
   ]
  },
  {
   "cell_type": "code",
   "execution_count": 27,
   "id": "08306916",
   "metadata": {},
   "outputs": [],
   "source": [
    "from datetime import datetime"
   ]
  },
  {
   "cell_type": "code",
   "execution_count": 28,
   "id": "ab197185",
   "metadata": {},
   "outputs": [],
   "source": [
    "today = datetime(year=2019,month=2,day=28)"
   ]
  },
  {
   "cell_type": "code",
   "execution_count": 29,
   "id": "7f369636",
   "metadata": {},
   "outputs": [
    {
     "name": "stdout",
     "output_type": "stream",
     "text": [
      "2019-02-28 00:00:00\n"
     ]
    }
   ],
   "source": [
    "print(f\"{today}\")"
   ]
  },
  {
   "cell_type": "code",
   "execution_count": 31,
   "id": "d691f1f3",
   "metadata": {},
   "outputs": [
    {
     "name": "stdout",
     "output_type": "stream",
     "text": [
      "February 28, 2019\n"
     ]
    }
   ],
   "source": [
    "# https://strftime.org/ - for datetime formating\n",
    "print(f\"{today:%B %d, %Y}\")"
   ]
  },
  {
   "cell_type": "markdown",
   "id": "97475a05",
   "metadata": {},
   "source": [
    "### 2.6. Working with text files w/ Python p2"
   ]
  },
  {
   "cell_type": "code",
   "execution_count": 32,
   "id": "f135042f",
   "metadata": {},
   "outputs": [
    {
     "name": "stdout",
     "output_type": "stream",
     "text": [
      "Writing test.txt\n"
     ]
    }
   ],
   "source": [
    "%%writefile test.txt\n",
    "Hello, this is a quick test file.\n",
    "This is the second line of the file."
   ]
  },
  {
   "cell_type": "code",
   "execution_count": 34,
   "id": "3d14700c",
   "metadata": {},
   "outputs": [],
   "source": [
    "myfile = open('test.txt')"
   ]
  },
  {
   "cell_type": "code",
   "execution_count": 36,
   "id": "8d6fdc12",
   "metadata": {},
   "outputs": [
    {
     "data": {
      "text/plain": [
       "'Hello, this is a quick test file.\\nThis is the second line of the file.\\n'"
      ]
     },
     "execution_count": 36,
     "metadata": {},
     "output_type": "execute_result"
    }
   ],
   "source": [
    "myfile.read()"
   ]
  },
  {
   "cell_type": "code",
   "execution_count": 37,
   "id": "e12368a0",
   "metadata": {},
   "outputs": [
    {
     "data": {
      "text/plain": [
       "''"
      ]
     },
     "execution_count": 37,
     "metadata": {},
     "output_type": "execute_result"
    }
   ],
   "source": [
    "# Note that files need to be reset to be used more than once\n",
    "myfile.read()"
   ]
  },
  {
   "cell_type": "code",
   "execution_count": 38,
   "id": "7f1dd812",
   "metadata": {},
   "outputs": [
    {
     "data": {
      "text/plain": [
       "0"
      ]
     },
     "execution_count": 38,
     "metadata": {},
     "output_type": "execute_result"
    }
   ],
   "source": [
    "myfile.seek(0)"
   ]
  },
  {
   "cell_type": "code",
   "execution_count": 39,
   "id": "6531f8a5",
   "metadata": {},
   "outputs": [
    {
     "data": {
      "text/plain": [
       "'Hello, this is a quick test file.\\nThis is the second line of the file.\\n'"
      ]
     },
     "execution_count": 39,
     "metadata": {},
     "output_type": "execute_result"
    }
   ],
   "source": [
    "myfile.read()"
   ]
  },
  {
   "cell_type": "code",
   "execution_count": 40,
   "id": "296ded6a",
   "metadata": {},
   "outputs": [],
   "source": [
    "# the file is still open otherwise\n",
    "myfile.close()"
   ]
  },
  {
   "cell_type": "code",
   "execution_count": 42,
   "id": "f0645dec",
   "metadata": {},
   "outputs": [
    {
     "data": {
      "text/plain": [
       "['Hello, this is a quick test file.\\n',\n",
       " 'This is the second line of the file.\\n']"
      ]
     },
     "execution_count": 42,
     "metadata": {},
     "output_type": "execute_result"
    }
   ],
   "source": [
    "\n",
    "myfile = open('test.txt')\n",
    "myfile.readlines()"
   ]
  },
  {
   "cell_type": "code",
   "execution_count": 45,
   "id": "de7b4faf",
   "metadata": {},
   "outputs": [
    {
     "name": "stdout",
     "output_type": "stream",
     "text": [
      "Hello,\n",
      "This\n"
     ]
    }
   ],
   "source": [
    "myfile.seek(0)\n",
    "mylines = myfile.readlines()\n",
    "for line in mylines:\n",
    "    print(line.split()[0])"
   ]
  },
  {
   "cell_type": "code",
   "execution_count": 46,
   "id": "64227ba3",
   "metadata": {},
   "outputs": [],
   "source": [
    "myfile = open('test.txt', 'w+')"
   ]
  },
  {
   "cell_type": "code",
   "execution_count": 47,
   "id": "92400303",
   "metadata": {},
   "outputs": [
    {
     "data": {
      "text/plain": [
       "17"
      ]
     },
     "execution_count": 47,
     "metadata": {},
     "output_type": "execute_result"
    }
   ],
   "source": [
    "myfile.write('MY BRAND NEW TEXT')"
   ]
  },
  {
   "cell_type": "code",
   "execution_count": 48,
   "id": "764ff692",
   "metadata": {},
   "outputs": [
    {
     "data": {
      "text/plain": [
       "0"
      ]
     },
     "execution_count": 48,
     "metadata": {},
     "output_type": "execute_result"
    }
   ],
   "source": [
    "myfile.seek(0)"
   ]
  },
  {
   "cell_type": "code",
   "execution_count": 49,
   "id": "9bfe615f",
   "metadata": {},
   "outputs": [
    {
     "data": {
      "text/plain": [
       "'MY BRAND NEW TEXT'"
      ]
     },
     "execution_count": 49,
     "metadata": {},
     "output_type": "execute_result"
    }
   ],
   "source": [
    "myfile.read()"
   ]
  },
  {
   "cell_type": "code",
   "execution_count": 50,
   "id": "172afce0",
   "metadata": {},
   "outputs": [],
   "source": [
    "myfile.close()"
   ]
  },
  {
   "cell_type": "code",
   "execution_count": 52,
   "id": "a781e9d7",
   "metadata": {},
   "outputs": [],
   "source": [
    "myfile = open('whoops.txt','a+')"
   ]
  },
  {
   "cell_type": "code",
   "execution_count": 53,
   "id": "49488ccf",
   "metadata": {},
   "outputs": [
    {
     "data": {
      "text/plain": [
       "27"
      ]
     },
     "execution_count": 53,
     "metadata": {},
     "output_type": "execute_result"
    }
   ],
   "source": [
    "myfile.write('My first line in A+ opening')"
   ]
  },
  {
   "cell_type": "code",
   "execution_count": 54,
   "id": "8fb47100",
   "metadata": {},
   "outputs": [],
   "source": [
    "myfile.close()"
   ]
  },
  {
   "cell_type": "code",
   "execution_count": 55,
   "id": "66bab005",
   "metadata": {},
   "outputs": [],
   "source": [
    "newfile = open('whoops.txt')"
   ]
  },
  {
   "cell_type": "code",
   "execution_count": 56,
   "id": "2c72f604",
   "metadata": {},
   "outputs": [
    {
     "data": {
      "text/plain": [
       "'My first line in A+ opening'"
      ]
     },
     "execution_count": 56,
     "metadata": {},
     "output_type": "execute_result"
    }
   ],
   "source": [
    "newfile.read()"
   ]
  },
  {
   "cell_type": "code",
   "execution_count": 57,
   "id": "65c88c85",
   "metadata": {},
   "outputs": [],
   "source": [
    "myfile = open('whoops.txt',mode='a+')"
   ]
  },
  {
   "cell_type": "code",
   "execution_count": 59,
   "id": "9c10f971",
   "metadata": {},
   "outputs": [
    {
     "data": {
      "text/plain": [
       "45"
      ]
     },
     "execution_count": 59,
     "metadata": {},
     "output_type": "execute_result"
    }
   ],
   "source": [
    "myfile.write('This is an added line, because I used a+ mode')"
   ]
  },
  {
   "cell_type": "code",
   "execution_count": 60,
   "id": "454f4934",
   "metadata": {},
   "outputs": [
    {
     "data": {
      "text/plain": [
       "'My first line in A+ openingThis is an added line, because I used a+ mode'"
      ]
     },
     "execution_count": 60,
     "metadata": {},
     "output_type": "execute_result"
    }
   ],
   "source": [
    "myfile.seek(0)\n",
    "myfile.read()"
   ]
  },
  {
   "cell_type": "code",
   "execution_count": 61,
   "id": "fbb83361",
   "metadata": {},
   "outputs": [
    {
     "data": {
      "text/plain": [
       "'My first line in A+ openingThis is an added line, because I used a+ mode\\nThis is a real new line, on the next line'"
      ]
     },
     "execution_count": 61,
     "metadata": {},
     "output_type": "execute_result"
    }
   ],
   "source": [
    "myfile.write('\\nThis is a real new line, on the next line')\n",
    "myfile.seek(0)\n",
    "myfile.read()"
   ]
  },
  {
   "cell_type": "code",
   "execution_count": null,
   "id": "68aba585",
   "metadata": {},
   "outputs": [],
   "source": []
  }
 ],
 "metadata": {
  "kernelspec": {
   "display_name": "Python 3 (ipykernel)",
   "language": "python",
   "name": "python3"
  },
  "language_info": {
   "codemirror_mode": {
    "name": "ipython",
    "version": 3
   },
   "file_extension": ".py",
   "mimetype": "text/x-python",
   "name": "python",
   "nbconvert_exporter": "python",
   "pygments_lexer": "ipython3",
   "version": "3.10.9"
  }
 },
 "nbformat": 4,
 "nbformat_minor": 5
}
