{
 "cells": [
  {
   "cell_type": "markdown",
   "metadata": {},
   "source": [
    "### 1: Getting Started with the OpenAI Python API \n",
    "\n",
    "The following code is a basic demo of getting started with the api, with the response generated from openai. "
   ]
  },
  {
   "cell_type": "code",
   "execution_count": 1,
   "metadata": {},
   "outputs": [],
   "source": [
    "# !pip install openai"
   ]
  },
  {
   "cell_type": "code",
   "execution_count": 2,
   "metadata": {},
   "outputs": [],
   "source": [
    "# Import statements\n",
    "import openai\n",
    "import os\n",
    "import pandas as pd"
   ]
  },
  {
   "cell_type": "code",
   "execution_count": 3,
   "metadata": {},
   "outputs": [],
   "source": [
    "# Import and pass api key\n",
    "with open(r'C:\\Users\\mhuh22\\Desktop\\openai_api.txt', 'r') as file:\n",
    "    api_key = file.readline().strip()\n",
    "os.environ['OPENAI_API_KEY'] = api_key\n",
    "openai.api_key = os.getenv('OPENAI_API_KEY')"
   ]
  },
  {
   "cell_type": "code",
   "execution_count": 4,
   "metadata": {},
   "outputs": [],
   "source": [
    "# Send a query\n",
    "response = openai.Completion.create(\n",
    "    model = 'text-davinci-003',\n",
    "    prompt = 'Give me two reasons to learn OpenAI API with Python',\n",
    "    max_tokens = 300\n",
    ")"
   ]
  },
  {
   "cell_type": "code",
   "execution_count": 5,
   "metadata": {},
   "outputs": [
    {
     "name": "stdout",
     "output_type": "stream",
     "text": [
      "\n",
      "\n",
      "1. OpenAI API with Python can be used to quickly build and deploy AI-powered applications. This is beneficial for developers who want to get their applications out in the market quickly and with minimum effort.\n",
      "\n",
      "2. Python is an easy-to-learn, high-level language, which makes it suitable for rapid prototyping and development of AI applications. Additionally, the use of OpenAI API with Python also grants access to a vast selection of existing code resources and libraries, allowing developers to utilize a wide array of tools to achieve their application goals.\n"
     ]
    }
   ],
   "source": [
    "# Response comes out in json, print in readable format\n",
    "print(response['choices'][0]['text'])"
   ]
  },
  {
   "cell_type": "code",
   "execution_count": null,
   "metadata": {},
   "outputs": [],
   "source": []
  }
 ],
 "metadata": {
  "kernelspec": {
   "display_name": "Python 3",
   "language": "python",
   "name": "python3"
  },
  "language_info": {
   "codemirror_mode": {
    "name": "ipython",
    "version": 3
   },
   "file_extension": ".py",
   "mimetype": "text/x-python",
   "name": "python",
   "nbconvert_exporter": "python",
   "pygments_lexer": "ipython3",
   "version": "3.7.0"
  }
 },
 "nbformat": 4,
 "nbformat_minor": 2
}
