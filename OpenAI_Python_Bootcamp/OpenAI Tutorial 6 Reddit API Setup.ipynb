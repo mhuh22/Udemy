{
 "cells": [
  {
   "cell_type": "code",
   "execution_count": 54,
   "id": "3bb9db46",
   "metadata": {},
   "outputs": [],
   "source": [
    "import os\n",
    "import openai\n",
    "import praw\n",
    "\n",
    "# Import and pass api key\n",
    "with open(r'C:\\Users\\mhuh22\\Desktop\\openai_api.txt', 'r') as file:\n",
    "    api_key = file.readline().strip()\n",
    "os.environ['OPENAI_API_KEY'] = api_key\n",
    "openai.api_key = os.getenv('OPENAI_API_KEY')\n",
    "\n",
    "# Import reddit client id and secret\n",
    "with open(r'C:\\Users\\mhuh22\\Desktop\\reddit_api.txt', 'r') as file:\n",
    "    lines = file.readlines()\n",
    "\n",
    "client_id = lines[0].strip().split(':')[1]\n",
    "client_secret = lines[1].strip().split(':')[1]\n",
    "\n",
    "# Call reddit api\n",
    "reddit = praw.Reddit(client_id=client_id, \n",
    "                     client_secret=client_secret, \n",
    "                     user_agent='sentiment analysis test')"
   ]
  },
  {
   "cell_type": "code",
   "execution_count": 26,
   "id": "bb9b3bc2",
   "metadata": {},
   "outputs": [
    {
     "name": "stdout",
     "output_type": "stream",
     "text": [
      "Rate My Portfolio - r/Stocks Quarterly Thread March 2023\n",
      "r/Stocks Daily Discussion Wednesday - Apr 05, 2023\n",
      "Private payrolls rose by 145,000 in March, well below expectations, ADP says\n",
      "Anyone Buying $SCHW Heading Into Earnings April 17th?\n",
      "Apple’s “Wearables & Accessories” revenue ($41.24B) is significantly greater than Nvidia’s annual revenue (26.91B).\n"
     ]
    }
   ],
   "source": [
    "# Access the most popular titles in finance\n",
    "for submission in reddit.subreddit('stocks').hot(limit=5):\n",
    "    print(submission.title)"
   ]
  },
  {
   "cell_type": "code",
   "execution_count": 27,
   "id": "6da7969c",
   "metadata": {},
   "outputs": [],
   "source": [
    "subreddit_stocks = reddit.subreddit('stocks')"
   ]
  },
  {
   "cell_type": "code",
   "execution_count": 31,
   "id": "71ee4d94",
   "metadata": {},
   "outputs": [
    {
     "name": "stdout",
     "output_type": "stream",
     "text": [
      "stocks\n",
      "Stocks - Investing and trading for all\n"
     ]
    }
   ],
   "source": [
    "# Display name\n",
    "print(subreddit_stocks.display_name)\n",
    "# Title\n",
    "print(subreddit_stocks.title)"
   ]
  },
  {
   "cell_type": "code",
   "execution_count": 32,
   "id": "4b40dabb",
   "metadata": {},
   "outputs": [
    {
     "data": {
      "text/plain": [
       "4872"
      ]
     },
     "execution_count": 32,
     "metadata": {},
     "output_type": "execute_result"
    }
   ],
   "source": [
    "# View how many redditors are active currently\n",
    "subreddit_stocks.accounts_active"
   ]
  },
  {
   "cell_type": "code",
   "execution_count": 34,
   "id": "42989c72",
   "metadata": {},
   "outputs": [
    {
     "name": "stdout",
     "output_type": "stream",
     "text": [
      "11ezwar Rate My Portfolio - r/Stocks Quarterly Thread March 2023\n",
      "12cek09 r/Stocks Daily Discussion Wednesday - Apr 05, 2023\n",
      "12cmpjk Private payrolls rose by 145,000 in March, well below expectations, ADP says\n",
      "12cx5hf Anyone Buying $SCHW Heading Into Earnings April 17th?\n",
      "12buzi8 Apple’s “Wearables & Accessories” revenue ($41.24B) is significantly greater than Nvidia’s annual revenue (26.91B).\n"
     ]
    }
   ],
   "source": [
    "# View post ids and titles\n",
    "for post in subreddit_stocks.hot(limit=5):\n",
    "    print(post.id, post.title)"
   ]
  },
  {
   "cell_type": "code",
   "execution_count": 36,
   "id": "1adf08ed",
   "metadata": {},
   "outputs": [
    {
     "name": "stdout",
     "output_type": "stream",
     "text": [
      "Rate My Portfolio - r/Stocks Quarterly Thread March 2023\n",
      "I am 26, so I have several decades until retirement. My goal is to hold the stocks in my portfolio perpetually, though I'm not reserved to make adjustments and sell when a) I see an opportunity to take profits b) my thesis changes. My long term goal is passive income generation, though I don't chase yields. I don't pay much attention to valuation or macro, as I think that since I plan on holding these stocks for decades while buying every month, those don't matter to me much. I invest regularly every month, so I'm okay with buying at a higher valuation at times and lower valuation at other times. In my opinion, buying at the best possible time is more difficult than buying a good company. That said, if I see an undervalued stock I like, I don't hesitate to buy more and when I make my regular contributions, I try weigh towards stocks that might have been beaten down or seem undervalued. My last review in one of these was [Dec 2021](https://www.reddit.com/r/stocks/comments/r6bdjt/rate_my_portfolio_rstocks_quarterly_thread/hn1ot2t/). Since then, I have made some adjustments, mostly by researching new companies and updating what I focus on when doing my analysis. I am pretty comfortable with my current portfolio and can see myself holding any of these companies for decades (that surely won't be the case, but I'm okay with that; not all of these will be good investments, but most of them should, I think).\n",
      "\n",
      "My goal is not doing 50% in a year or buying low and selling high. My goal is to outperform the index modestly, at maybe 2-3% annually, which would compound very nicely over decades. I'm okay with the risk that I underperform at a modest rate. I want to avoid making drastic changes to my portfolio depending on macro environment.\n",
      "\n",
      "I like stocks that are quality companies with:\n",
      "\n",
      "-\tA sustainable business model - high cash flow generation, high ROIC / ROCE, good balance sheet. Bonus points for recurring, diversified revenue, and optionality.\n",
      "-\tBusiness model and products I understand, or at least understand their value. I don't think I'll ever understand ASML's machines, but I understand why it's one of a kind company.\n",
      "-\tA wide moat. Bonus points are for brand value, network effect, IP, barriers to entry / high switching costs, supply chain, etc. I am okay with paying a high multiple for a company that cannot be replicated by throwing money at the problem. Almost every company I own scores very high in this regard in my own checklist.\n",
      "-\tHigh margins. I focus mostly on gross margin, but consider other margin metrics, too.\n",
      "-\tSustainable buybacks and dividend growth.\n",
      "-\tGreat management.\n",
      "\n",
      "Not every company I own scores high in each of these, but together they fit my investment goals very well.\n",
      "\n",
      "I used to have an allocation for growth in my portfolio, but overtime, I have decided to fully target quality companies and compounders with a great track record. I realized that it is never too late to buy into a company once it becomes profitable and sustainable. And if I miss a few 10-baggers because of restraint from unprofitable companies, I'll be okay with that.\n",
      "\n",
      "My current allocation is 96% equity, with the rest being a single commodity holding - a carbon allowance ETF (CARB on BIT)\n",
      "\n",
      "Of the 96% equity, 1/3 (32%) is in diversified ETFs:\n",
      "\n",
      "| **Name**                 | **Target allocation** |\n",
      "|--------------------------|----------------------:|\n",
      "| **MSCI World**           | 24,0%                 |\n",
      "| **MSCI World Small Cap** | 4,0%                  |\n",
      "| **MSCI EM IMI**          | 4,0%                  |\n",
      "\n",
      "The other 2/3s are stocks, structured as following, ordered by my target weight (descending):\n",
      "\n",
      "| **Name**                        | **Ticker** | **Target allocation** |\n",
      "|---------------------------------|:----------:|----------------------:|\n",
      "| **Microsoft**                   | MSFT       | 6,00%                 |\n",
      "| **Apple**                       | AAPL       | 5,50%                 |\n",
      "| **ASML Holding**                | ASML       | 5,50%                 |\n",
      "| **Brookfield Corporation**      | BN         | 4,00%                 |\n",
      "| **Costco**                      | COST       | 4,00%                 |\n",
      "| **MasterCard**                  | MA         | 4,00%                 |\n",
      "| **Novo Nordisk**                | NVO        | 4,00%                 |\n",
      "| **Ulta Beauty**                 | ULTA       | 4,00%                 |\n",
      "| **Visa**                        | V          | 4,00%                 |\n",
      "| **Alphabet**                    | GOOG       | 4,00%                 |\n",
      "| **Johnson and Johnson**         | JNJ        | 3,00%                 |\n",
      "| **Home Depot**                  | HD         | 3,00%                 |\n",
      "| **Lockheed Martin**             | LMT        | 3,00%                 |\n",
      "| **Union Pacific**               | UNP        | 3,00%                 |\n",
      "| **Intuitive Surgical**          | ISRG       | 2,50%                 |\n",
      "| **Adobe**                       | ADBE       | 2,50%                 |\n",
      "| **Brookfield Asset Management** | BAM        | 2,00%                 |\n",
      "\n",
      "Edit: I also have two retirement accounts that are both 100% MSCI World.\n",
      "24 Years old.\n",
      "\n",
      "GOOGL 17% , META 17%, V 15%, MSFT 13%, AAPL 13%, MO 11%, Treasury ETF 4%, C 3%, XLRE 3%, AMZN 2%, GM 1%.\n",
      "\n",
      "This is my taxable portfolio, my ROTH is all in SP500 / Growth mutual funds.\n",
      "\n",
      "My current goals are to build my positions in AMZN and Short-Term US Treasuries to 10% Each. Also, I want to build a position into XLF.\n",
      "r/Stocks Daily Discussion Wednesday - Apr 05, 2023\n",
      "The no landing scenario looking less likely:\n",
      "\n",
      "> Latest estimate: 1.5 percent — April 5, 2023\n",
      "\n",
      "> The GDPNow model estimate for real GDP growth (seasonally adjusted annual rate) in the first quarter of 2023 is 1.5 percent on April 5, down from 1.7 percent on April 3. After recent releases from the US Census Bureau, the US Bureau of Economic Analysis, and the Institute for Supply Management, a decrease in the nowcast of first-quarter real personal consumption expenditures growth from 3.7 percent to 3.4 percent was slightly offset by an increase in the nowcast of first-quarter real gross private domestic investment growth from -8.5 percent to -7.8 percent, while the nowcast of the contribution of the change in real net exports to first-quarter real GDP growth decreased from 0.44 percentage points to 0.29 percentage points.\n",
      "\n",
      "Good news for inflation at least.\n",
      "Non farm employment145k vs 200 forecast and 261 previous.\n",
      "\n",
      "Some will say it’s good because it is what Powell wanted. Some will say it’s bad because a recession is coming.\n",
      "\n",
      "IMO… Well I don’t know.\n",
      "Private payrolls rose by 145,000 in March, well below expectations, ADP says\n",
      "For whatever it’s worth, ADP is pretty far off in their models often times. They had 242k in Feb, actual 311k. ADP in Jan said 106k, actual 517k.  \n",
      "    \n",
      "This isn’t official data. That’s the BLS report, which comes out Friday.\n",
      "These reports always seem questionable. The deceleration of payrolls is not lost on me, but when actual figures come in below an *upwardly revised* estimate, does that not shine a light on faulty projections?\n",
      "Anyone Buying $SCHW Heading Into Earnings April 17th?\n",
      "Reddit loves SCHW rn. for that reason, I’m out.\n",
      "Bought 500 shares at a $55 cost basis. \n",
      "\n",
      "In Q4 they cited liquidity concerns and took a $13B loan from FHLB because of the bond portfolio blowing up. They still went ahead and raised the dividend 22%, and did $3B worth of share buybacks. \n",
      "\n",
      "The actions speak, complemented by the company’s well reputable history. The worst case scenario is lower than expected earnings while the bonds that were moved to HTM mature (I read that they have 2 more years to average out).\n",
      "\n",
      "Also Schwab said in Q3 and Q4 that rate hikes have been a profitable business for them.\n",
      "Apple’s “Wearables & Accessories” revenue ($41.24B) is significantly greater than Nvidia’s annual revenue (26.91B).\n",
      "Comparing revenue is pointless.\n",
      "\n",
      "Walmart has 611bn revenue vs apple’s 394bn.\n",
      "\n",
      "Walmart is 396bn mcap vs apples 2620bn.\n",
      "\n",
      "Everyone will now jump in about margins and profit. Which is the point im trying to make.\n",
      "\n",
      "People might also talk about profits being in apple’s favor \n",
      "\n",
      "Then i should bring up exxon mobil that had profits of 77bn off 398bn revenue.\n",
      "\n",
      "Trading at only 468bn market cap\n",
      "\n",
      "People might now talk about different industry, growth potential, cyclical businesses etc.\n",
      "\n",
      "Now people should understand comparing nvda to apple wearables by looking at revenue is completely useless\n",
      "[deleted]\n"
     ]
    }
   ],
   "source": [
    "# Grab top 2 comments for top 5 posts\n",
    "for post in subreddit_stocks.hot(limit=5):\n",
    "    print(post.title)\n",
    "    \n",
    "    # Grabs replies from post\n",
    "    submission = reddit.submission(post.id)\n",
    "    \n",
    "    # print top 2 comments per title sub\n",
    "    counter = 0\n",
    "    for comment in submission.comments:\n",
    "        if comment.body == '[deleted]': # ignore if post was deleted\n",
    "            pass\n",
    "        \n",
    "        print(comment.body)\n",
    "        counter += 1\n",
    "        \n",
    "        if counter==2:\n",
    "            break"
   ]
  },
  {
   "cell_type": "code",
   "execution_count": 50,
   "id": "a66874a5",
   "metadata": {},
   "outputs": [],
   "source": [
    "def get_titles_and_comments(subreddit=\"stocks\", sub_instance=\"hot\", limit=10, num_comments=2, skip_first=2):\n",
    "    subreddit = reddit.subreddit(subreddit)\n",
    "    titles_and_comments = {}\n",
    "    for c, post in enumerate(getattr(subreddit, sub_instance)(limit=limit)):\n",
    "        \n",
    "        if c < skip_first:\n",
    "            continue\n",
    "        \n",
    "        c+=(1-skip_first)\n",
    "        \n",
    "        titles_and_comments[c] = \"\"\n",
    "\n",
    "        submission = reddit.submission(post.id)\n",
    "        title = post.title\n",
    "        \n",
    "        titles_and_comments[c] += \"Title: \" + title  + \"\\n\\n\"\n",
    "        titles_and_comments[c] += \"Comments: \\n\\n\"\n",
    "        \n",
    "        comment_counter = 0\n",
    "        for comment in submission.comments:\n",
    "            comment = comment.body\n",
    "            if not comment == \"[deleted]\":\n",
    "                titles_and_comments[c] += comment + \"\\n\"\n",
    "                comment_counter+=1\n",
    "            if comment_counter == num_comments:\n",
    "                break\n",
    "\n",
    "    return titles_and_comments"
   ]
  },
  {
   "cell_type": "code",
   "execution_count": 51,
   "id": "078f8a4b",
   "metadata": {},
   "outputs": [],
   "source": [
    "title_and_comments = get_titles_and_comments()"
   ]
  },
  {
   "cell_type": "code",
   "execution_count": 52,
   "id": "8675a33d",
   "metadata": {},
   "outputs": [
    {
     "data": {
      "text/plain": [
       "{1: 'Title: Private payrolls rose by 145,000 in March, well below expectations, ADP says\\n\\nComments: \\n\\nFor whatever it’s worth, ADP is pretty far off in their models often times. They had 242k in Feb, actual 311k. ADP in Jan said 106k, actual 517k.  \\n    \\nThis isn’t official data. That’s the BLS report, which comes out Friday.\\nThese reports always seem questionable. The deceleration of payrolls is not lost on me, but when actual figures come in below an *upwardly revised* estimate, does that not shine a light on faulty projections?\\n',\n",
       " 2: 'Title: Anyone Buying $SCHW Heading Into Earnings April 17th?\\n\\nComments: \\n\\nReddit loves SCHW rn. for that reason, I’m out.\\nBought 500 shares at a $55 cost basis. \\n\\nIn Q4 they cited liquidity concerns and took a $13B loan from FHLB because of the bond portfolio blowing up. They still went ahead and raised the dividend 22%, and did $3B worth of share buybacks. \\n\\nThe actions speak, complemented by the company’s well reputable history. The worst case scenario is lower than expected earnings while the bonds that were moved to HTM mature (I read that they have 2 more years to average out).\\n\\nAlso Schwab said in Q3 and Q4 that rate hikes have been a profitable business for them.\\n\\nEdit: in Q4 they didnt say they had liquidity concerns. They said they “bolstered liquidity”. Full report is here https://content.schwab.com/web/retail/public/about-schwab/schw_q4_2022_earnings_release.pdf I cited the passage in one of my responses below\\n',\n",
       " 3: 'Title: Apple’s “Wearables & Accessories” revenue ($41.24B) is significantly greater than Nvidia’s annual revenue (26.91B).\\n\\nComments: \\n\\nComparing revenue is pointless.\\n\\nWalmart has 611bn revenue vs apple’s 394bn.\\n\\nWalmart is 396bn mcap vs apples 2620bn.\\n\\nEveryone will now jump in about margins and profit. Which is the point im trying to make.\\n\\nPeople might also talk about profits being in apple’s favor \\n\\nThen i should bring up exxon mobil that had profits of 77bn off 398bn revenue.\\n\\nTrading at only 468bn market cap\\n\\nPeople might now talk about different industry, growth potential, cyclical businesses etc.\\n\\nNow people should understand comparing nvda to apple wearables by looking at revenue is completely useless\\nMy local supermarket sells more ice cream than the neighboring farmers market selling honey. What’s your reaction to this comparison?\\n',\n",
       " 4: 'Title: Nvidia ($NVDA) is the best risk-reward short over the next few months\\n\\nComments: \\n\\nA lot of people have lost money with this same line of thinking. The market can be irrational for a long time.\\nYou state that trying to short a company because its overvalued is a fools errand then you proceed to say expect a 20-30% drop in the coming weeks based on a reuters article on google, something they’ve had and developed for years\\n\\nHmm…\\n',\n",
       " 5: \"Title: Costco March Sales Disappoint\\n\\nComments: \\n\\nNot unexpected. Costco is a great company, and their customer base is better insulated against inflation and poor economic conditions than many other companies. But with the type of headwinds the economy is facing right now, well, you can only expect so much. \\n\\nI owned the stock for decades, but exited it at pretty close to its peak because I thought it was expensive relative to its growth potential and the expected economic headwinds. It's still not at the right price for me to get back in, but I do have some open buy orders that I keep renewing because it's a great company and will be a good stock, at the right price.\\nAmerican consumer is starting to feel the pinch.\\n\\nWhole market could be lower on this news.\\n\\nDefinitely headed for a recession.\\n\",\n",
       " 6: 'Title: Investing in Ferrari, why?\\n\\nComments: \\n\\nI have one share to say I own Ferrari. People just assume I am saying I own a Ferrari car.\\nPeople just want to own a piece of Ferrari.\\n',\n",
       " 7: \"Title: (4/5) Wednesday's Pre-Market Stock Movers & News\\n\\nComments: \\n\\n\",\n",
       " 8: 'Title: ‘I am truly sorry’: Credit Suisse chair pleads with angry shareholders at annual meeting\\n\\nComments: \\n\\nThe fact his last name is “Lehmann” is just…fitting.\\nWe’re *sorry*.  We really mean it\\n'}"
      ]
     },
     "execution_count": 52,
     "metadata": {},
     "output_type": "execute_result"
    }
   ],
   "source": [
    "title_and_comments"
   ]
  },
  {
   "cell_type": "code",
   "execution_count": 46,
   "id": "63415f73",
   "metadata": {},
   "outputs": [],
   "source": [
    "def create_prompt(title_and_comments):\n",
    "    task = \"\"\"\n",
    "    Return the stock ticker or company name mentioned in the following title \n",
    "    and comments and classify the sentiment around the company as positive, \n",
    "    negative, or neutral. If no ticker or company is mentioned write \n",
    "    No company mentioned\\n\\n'      \n",
    "    \"\"\"\n",
    "    return task + title_and_comments"
   ]
  },
  {
   "cell_type": "code",
   "execution_count": 49,
   "id": "18d186e1",
   "metadata": {},
   "outputs": [
    {
     "name": "stdout",
     "output_type": "stream",
     "text": [
      "Title: Private payrolls rose by 145,000 in March, well below expectations, ADP says\n",
      "\n",
      "Comments: \n",
      "\n",
      "For whatever it’s worth, ADP is pretty far off in their models often times. They had 242k in Feb, actual 311k. ADP in Jan said 106k, actual 517k.  \n",
      "    \n",
      "This isn’t official data. That’s the BLS report, which comes out Friday.\n",
      "These reports always seem questionable. The deceleration of payrolls is not lost on me, but when actual figures come in below an *upwardly revised* estimate, does that not shine a light on faulty projections?\n",
      "The market may have wanted employment high, but the Fed doesn't. When the Fed gets what they want, they will stop rate increases, which since the start of xovid seems like the major and obvious driving force of the market as the federal interest rate was lowered than raised.\n",
      "\n"
     ]
    }
   ],
   "source": [
    "print(title_and_comments[1])"
   ]
  },
  {
   "cell_type": "code",
   "execution_count": 57,
   "id": "7485e06e",
   "metadata": {},
   "outputs": [
    {
     "name": "stdout",
     "output_type": "stream",
     "text": [
      "Title: Private payrolls rose by 145,000 in March, well below expectations, ADP says\n",
      "\n",
      "Comments: \n",
      "\n",
      "For whatever it’s worth, ADP is pretty far off in their models often times. They had 242k in Feb, actual 311k. ADP in Jan said 106k, actual 517k.  \n",
      "    \n",
      "This isn’t official data. That’s the BLS report, which comes out Friday.\n",
      "These reports always seem questionable. The deceleration of payrolls is not lost on me, but when actual figures come in below an *upwardly revised* estimate, does that not shine a light on faulty projections?\n",
      "\n",
      "Sentiment Report from OpenAI: \n",
      "No company mentioned\n",
      "-----------------------\n",
      "Title: Anyone Buying $SCHW Heading Into Earnings April 17th?\n",
      "\n",
      "Comments: \n",
      "\n",
      "Reddit loves SCHW rn. for that reason, I’m out.\n",
      "Bought 500 shares at a $55 cost basis. \n",
      "\n",
      "In Q4 they cited liquidity concerns and took a $13B loan from FHLB because of the bond portfolio blowing up. They still went ahead and raised the dividend 22%, and did $3B worth of share buybacks. \n",
      "\n",
      "The actions speak, complemented by the company’s well reputable history. The worst case scenario is lower than expected earnings while the bonds that were moved to HTM mature (I read that they have 2 more years to average out).\n",
      "\n",
      "Also Schwab said in Q3 and Q4 that rate hikes have been a profitable business for them.\n",
      "\n",
      "Edit: in Q4 they didnt say they had liquidity concerns. They said they “bolstered liquidity”. Full report is here https://content.schwab.com/web/retail/public/about-schwab/schw_q4_2022_earnings_release.pdf I cited the passage in one of my responses below\n",
      "\n",
      "Sentiment Report from OpenAI: \n",
      "Ticker: SCHW\n",
      "Sentiment: Positive\n",
      "-----------------------\n",
      "Title: Apple’s “Wearables & Accessories” revenue ($41.24B) is significantly greater than Nvidia’s annual revenue (26.91B).\n",
      "\n",
      "Comments: \n",
      "\n",
      "Comparing revenue is pointless.\n",
      "\n",
      "Walmart has 611bn revenue vs apple’s 394bn.\n",
      "\n",
      "Walmart is 396bn mcap vs apples 2620bn.\n",
      "\n",
      "Everyone will now jump in about margins and profit. Which is the point im trying to make.\n",
      "\n",
      "People might also talk about profits being in apple’s favor \n",
      "\n",
      "Then i should bring up exxon mobil that had profits of 77bn off 398bn revenue.\n",
      "\n",
      "Trading at only 468bn market cap\n",
      "\n",
      "People might now talk about different industry, growth potential, cyclical businesses etc.\n",
      "\n",
      "Now people should understand comparing nvda to apple wearables by looking at revenue is completely useless\n",
      "My local supermarket sells more ice cream than the neighboring farmers market selling honey. What’s your reaction to this comparison?\n",
      "\n",
      "Sentiment Report from OpenAI: \n",
      "No company mentioned. Neutral.\n",
      "-----------------------\n",
      "Title: Nvidia ($NVDA) is the best risk-reward short over the next few months\n",
      "\n",
      "Comments: \n",
      "\n",
      "A lot of people have lost money with this same line of thinking. The market can be irrational for a long time.\n",
      "You state that trying to short a company because its overvalued is a fools errand then you proceed to say expect a 20-30% drop in the coming weeks based on a reuters article on google, something they’ve had and developed for years\n",
      "\n",
      "Hmm…\n",
      "\n",
      "Sentiment Report from OpenAI: \n",
      "Company: Nvidia ($NVDA)\n",
      "Sentiment: Neutral\n",
      "-----------------------\n",
      "Title: Costco March Sales Disappoint\n",
      "\n",
      "Comments: \n",
      "\n",
      "Not unexpected. Costco is a great company, and their customer base is better insulated against inflation and poor economic conditions than many other companies. But with the type of headwinds the economy is facing right now, well, you can only expect so much. \n",
      "\n",
      "I owned the stock for decades, but exited it at pretty close to its peak because I thought it was expensive relative to its growth potential and the expected economic headwinds. It's still not at the right price for me to get back in, but I do have some open buy orders that I keep renewing because it's a great company and will be a good stock, at the right price.\n",
      "American consumer is starting to feel the pinch.\n",
      "\n",
      "Whole market could be lower on this news.\n",
      "\n",
      "Definitely headed for a recession.\n",
      "\n",
      "Sentiment Report from OpenAI: \n",
      "Company: Costco \n",
      "Sentiment: Neutral\n",
      "-----------------------\n",
      "Title: Investing in Ferrari, why?\n",
      "\n",
      "Comments: \n",
      "\n",
      "I have one share to say I own Ferrari. People just assume I am saying I own a Ferrari car.\n",
      "People just want to own a piece of Ferrari.\n",
      "\n",
      "Sentiment Report from OpenAI: \n",
      "Ferrari (RACE): Neutral\n",
      "-----------------------\n",
      "Title: (4/5) Wednesday's Pre-Market Stock Movers & News\n",
      "\n",
      "Comments: \n",
      "\n",
      "\n",
      "Sentiment Report from OpenAI:     \"Apple Inc. (AAPL) is up 1.5% in pre-market trading.\"\n",
      "\n",
      "Answer: Apple Inc. (AAPL), Positive\n",
      "-----------------------\n",
      "Title: ‘I am truly sorry’: Credit Suisse chair pleads with angry shareholders at annual meeting\n",
      "\n",
      "Comments: \n",
      "\n",
      "The fact his last name is “Lehmann” is just…fitting.\n",
      "We’re *sorry*.  We really mean it\n",
      "\n",
      "Sentiment Report from OpenAI: \n",
      "Credit Suisse: Neutral\n",
      "-----------------------\n"
     ]
    }
   ],
   "source": [
    "for key, title_with_comments in title_and_comments.items():\n",
    "    prompt = create_prompt(title_with_comments)\n",
    "    response = openai.Completion.create(engine='text-davinci-003',\n",
    "                                       prompt=prompt,\n",
    "                                       max_tokens=256,\n",
    "                                       temperature=0,\n",
    "                                       top_p=1)\n",
    "    print(title_with_comments)\n",
    "    print(f\"Sentiment Report from OpenAI: {response['choices'][0]['text']}\")\n",
    "    print('-----------------------')"
   ]
  },
  {
   "cell_type": "code",
   "execution_count": null,
   "id": "a90f178b",
   "metadata": {},
   "outputs": [],
   "source": []
  }
 ],
 "metadata": {
  "kernelspec": {
   "display_name": "Python 3 (ipykernel)",
   "language": "python",
   "name": "python3"
  },
  "language_info": {
   "codemirror_mode": {
    "name": "ipython",
    "version": 3
   },
   "file_extension": ".py",
   "mimetype": "text/x-python",
   "name": "python",
   "nbconvert_exporter": "python",
   "pygments_lexer": "ipython3",
   "version": "3.10.9"
  }
 },
 "nbformat": 4,
 "nbformat_minor": 5
}
