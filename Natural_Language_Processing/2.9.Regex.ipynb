{
 "cells": [
  {
   "cell_type": "code",
   "execution_count": null,
   "id": "68d0ef08",
   "metadata": {},
   "outputs": [],
   "source": [
    "import re"
   ]
  },
  {
   "cell_type": "code",
   "execution_count": 1,
   "id": "7ca81cb8",
   "metadata": {},
   "outputs": [],
   "source": [
    "text = \"The phone number of the agent is 408-555-1234. Call soon!\""
   ]
  },
  {
   "cell_type": "code",
   "execution_count": 3,
   "id": "76c1e7e0",
   "metadata": {},
   "outputs": [
    {
     "data": {
      "text/plain": [
       "True"
      ]
     },
     "execution_count": 3,
     "metadata": {},
     "output_type": "execute_result"
    }
   ],
   "source": [
    "# is \"\" in text\n",
    "\"408-555-1234\" in text"
   ]
  },
  {
   "cell_type": "code",
   "execution_count": 5,
   "id": "8c40a99f",
   "metadata": {},
   "outputs": [],
   "source": [
    "pattern = 'phone'\n",
    "\n",
    "# Searches for pattern in text\n",
    "my_match = re.search(pattern,text)"
   ]
  },
  {
   "cell_type": "code",
   "execution_count": 10,
   "id": "a8eb520e",
   "metadata": {},
   "outputs": [
    {
     "data": {
      "text/plain": [
       "(4, 9)"
      ]
     },
     "execution_count": 10,
     "metadata": {},
     "output_type": "execute_result"
    }
   ],
   "source": [
    "# Returns characters where the pattern is found\n",
    "my_match.span()"
   ]
  },
  {
   "cell_type": "code",
   "execution_count": 12,
   "id": "811c1af7",
   "metadata": {},
   "outputs": [
    {
     "data": {
      "text/plain": [
       "(3, 8)"
      ]
     },
     "execution_count": 12,
     "metadata": {},
     "output_type": "execute_result"
    }
   ],
   "source": [
    "text = 'my phone is a new phone'\n",
    "\n",
    "# Note: only finds first instance\n",
    "my_match = re.search(pattern,text)\n",
    "my_match.span()"
   ]
  },
  {
   "cell_type": "code",
   "execution_count": 13,
   "id": "216e0488",
   "metadata": {},
   "outputs": [
    {
     "data": {
      "text/plain": [
       "['phone', 'phone']"
      ]
     },
     "execution_count": 13,
     "metadata": {},
     "output_type": "execute_result"
    }
   ],
   "source": [
    "# Finds all matches\n",
    "re.findall(pattern,text)"
   ]
  },
  {
   "cell_type": "code",
   "execution_count": 14,
   "id": "a27adf84",
   "metadata": {},
   "outputs": [
    {
     "name": "stdout",
     "output_type": "stream",
     "text": [
      "(3, 8)\n",
      "(18, 23)\n"
     ]
    }
   ],
   "source": [
    "# Find span for all matches\n",
    "for match in re.finditer('phone',text):\n",
    "    print(match.span())"
   ]
  },
  {
   "cell_type": "markdown",
   "id": "774aba72",
   "metadata": {},
   "source": [
    "### Escape characters\n",
    "* r'text' = '\\' are part of the string and not escape characters\n",
    "* \\d = digit\n",
    "* \\w = alphanumeric\n",
    "* \\s = white space\n",
    "* \\D = non digit\n",
    "* \\W = non alphanumeric\n",
    "* \\S non-whitespace"
   ]
  },
  {
   "cell_type": "code",
   "execution_count": 18,
   "id": "97a817d4",
   "metadata": {},
   "outputs": [],
   "source": [
    "# Searches for ###-###-###\n",
    "pattern = r'\\d\\d\\d-\\d\\d\\d-\\d\\d\\d\\d'\n",
    "text = \"The phone number of the agent is 408-555-1234. Call soon!\"\n",
    "\n",
    "phone_number = re.search(pattern, text)"
   ]
  },
  {
   "cell_type": "code",
   "execution_count": 21,
   "id": "a72d3a8b",
   "metadata": {},
   "outputs": [
    {
     "data": {
      "text/plain": [
       "(33, 45)"
      ]
     },
     "execution_count": 21,
     "metadata": {},
     "output_type": "execute_result"
    }
   ],
   "source": [
    "phone_number.span()"
   ]
  },
  {
   "cell_type": "code",
   "execution_count": 22,
   "id": "c9fb02cc",
   "metadata": {},
   "outputs": [
    {
     "data": {
      "text/plain": [
       "'408-555-1234'"
      ]
     },
     "execution_count": 22,
     "metadata": {},
     "output_type": "execute_result"
    }
   ],
   "source": [
    "phone_number.group()"
   ]
  },
  {
   "cell_type": "raw",
   "id": "3358cda8",
   "metadata": {},
   "source": [
    "### Quantifiers\n",
    "\n",
    "+ = occurs one or more times\n",
    "{3} = occurs exactly 3 times\n",
    "{2,4} = occurs 2-4 times\n",
    "{3,} = occurs 3 or more times\n",
    "* = occurs 0+ times\n",
    "? = once or none"
   ]
  },
  {
   "cell_type": "code",
   "execution_count": 25,
   "id": "3575704e",
   "metadata": {},
   "outputs": [
    {
     "data": {
      "text/plain": [
       "<re.Match object; span=(33, 45), match='408-555-1234'>"
      ]
     },
     "execution_count": 25,
     "metadata": {},
     "output_type": "execute_result"
    }
   ],
   "source": [
    "re.search(r'\\d{3}-\\d{3}-\\d{4}',text)"
   ]
  },
  {
   "cell_type": "code",
   "execution_count": 29,
   "id": "007396c3",
   "metadata": {},
   "outputs": [
    {
     "data": {
      "text/plain": [
       "'408'"
      ]
     },
     "execution_count": 29,
     "metadata": {},
     "output_type": "execute_result"
    }
   ],
   "source": [
    "# Create subgroups using () within the pattern\n",
    "pattern = r'(\\d{3})-(\\d{3})-(\\d{4})'\n",
    "my_match = re.search(pattern, text)\n",
    "my_match.group(1)"
   ]
  },
  {
   "cell_type": "code",
   "execution_count": 30,
   "id": "03377d5b",
   "metadata": {},
   "outputs": [
    {
     "data": {
      "text/plain": [
       "<re.Match object; span=(5, 8), match='man'>"
      ]
     },
     "execution_count": 30,
     "metadata": {},
     "output_type": "execute_result"
    }
   ],
   "source": [
    "# | operator\n",
    "re.search(r'man|woman', 'This man was here')"
   ]
  },
  {
   "cell_type": "code",
   "execution_count": 31,
   "id": "d1c61f4f",
   "metadata": {},
   "outputs": [
    {
     "data": {
      "text/plain": [
       "['cat', 'hat', 'sat']"
      ]
     },
     "execution_count": 31,
     "metadata": {},
     "output_type": "execute_result"
    }
   ],
   "source": [
    "# Find using the '.' wildcard to replace a single character\n",
    "re.findall(r'.at', 'The cat in the hat sat')"
   ]
  },
  {
   "cell_type": "code",
   "execution_count": 32,
   "id": "64a8e1dd",
   "metadata": {},
   "outputs": [
    {
     "data": {
      "text/plain": [
       "['2']"
      ]
     },
     "execution_count": 32,
     "metadata": {},
     "output_type": "execute_result"
    }
   ],
   "source": [
    "# $ finds the last character\n",
    "re.findall(r'\\d$', 'This ends with a number 2')"
   ]
  },
  {
   "cell_type": "code",
   "execution_count": 34,
   "id": "dfb1f477",
   "metadata": {},
   "outputs": [
    {
     "data": {
      "text/plain": [
       "['1']"
      ]
     },
     "execution_count": 34,
     "metadata": {},
     "output_type": "execute_result"
    }
   ],
   "source": [
    "# ^ for starts with\n",
    "re.findall(r'^\\d', '1 is the loneliest number')"
   ]
  },
  {
   "cell_type": "code",
   "execution_count": 37,
   "id": "7826433e",
   "metadata": {},
   "outputs": [
    {
     "data": {
      "text/plain": [
       "['there are ', ' numbers ', ' inside ', ' this sentence']"
      ]
     },
     "execution_count": 37,
     "metadata": {},
     "output_type": "execute_result"
    }
   ],
   "source": [
    "phrase = \"there are 3 numbers 34 inside 5 this sentence\"\n",
    "\n",
    "# Find all characters that are not digitis in phrase\n",
    "re.findall(r\"[^\\d]+\", phrase)"
   ]
  },
  {
   "cell_type": "code",
   "execution_count": 42,
   "id": "b97bb64b",
   "metadata": {},
   "outputs": [
    {
     "data": {
      "text/plain": [
       "['This',\n",
       " 'is',\n",
       " 'a',\n",
       " 'string',\n",
       " 'but',\n",
       " 'it',\n",
       " 'has',\n",
       " 'punctuation',\n",
       " 'How',\n",
       " 'to',\n",
       " 'remove',\n",
       " 'it']"
      ]
     },
     "execution_count": 42,
     "metadata": {},
     "output_type": "execute_result"
    }
   ],
   "source": [
    "test_phrase = \"This is a string! but it has punctuation. How to remove it?\"\n",
    "\n",
    "mylist = re.findall(r\"[^!.? ]+\", test_phrase)\n",
    "mylist"
   ]
  },
  {
   "cell_type": "code",
   "execution_count": 43,
   "id": "ebe9fd10",
   "metadata": {},
   "outputs": [
    {
     "data": {
      "text/plain": [
       "'This is a string but it has punctuation How to remove it'"
      ]
     },
     "execution_count": 43,
     "metadata": {},
     "output_type": "execute_result"
    }
   ],
   "source": [
    "' '.join(mylist)"
   ]
  },
  {
   "cell_type": "code",
   "execution_count": 49,
   "id": "ba4e525d",
   "metadata": {},
   "outputs": [
    {
     "data": {
      "text/plain": [
       "['hyphen-words', 'long-ish']"
      ]
     },
     "execution_count": 49,
     "metadata": {},
     "output_type": "execute_result"
    }
   ],
   "source": [
    "# Find only hyphen words\n",
    "text = \"Only find the hyphen-words. Where are the long-ish dash words?\"\n",
    "re.findall(r\"[\\w]+-[\\w]+\",text)"
   ]
  },
  {
   "cell_type": "code",
   "execution_count": null,
   "id": "2c5f32ae",
   "metadata": {},
   "outputs": [],
   "source": []
  }
 ],
 "metadata": {
  "kernelspec": {
   "display_name": "Python 3 (ipykernel)",
   "language": "python",
   "name": "python3"
  },
  "language_info": {
   "codemirror_mode": {
    "name": "ipython",
    "version": 3
   },
   "file_extension": ".py",
   "mimetype": "text/x-python",
   "name": "python",
   "nbconvert_exporter": "python",
   "pygments_lexer": "ipython3",
   "version": "3.10.9"
  }
 },
 "nbformat": 4,
 "nbformat_minor": 5
}
