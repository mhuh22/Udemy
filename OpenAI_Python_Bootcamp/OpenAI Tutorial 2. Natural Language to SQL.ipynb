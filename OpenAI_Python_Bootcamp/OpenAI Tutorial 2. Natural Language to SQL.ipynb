{
 "cells": [
  {
   "cell_type": "markdown",
   "metadata": {},
   "source": [
    "### 2.Natural Language to SQL\n",
    "\n",
    "* OpenAI use Cases - completion API, can be used for text / story completion, and code completion"
   ]
  },
  {
   "cell_type": "code",
   "execution_count": 59,
   "metadata": {},
   "outputs": [],
   "source": [
    "import os\n",
    "import pandas as pd\n",
    "import openai\n",
    "import sqlalchemy\n",
    "from sqlalchemy import create_engine\n",
    "from sqlalchemy import text"
   ]
  },
  {
   "cell_type": "code",
   "execution_count": 60,
   "metadata": {},
   "outputs": [],
   "source": [
    "# Import and pass api key\n",
    "with open(r'C:\\Users\\mhuh22\\Desktop\\openai_api.txt', 'r') as file:\n",
    "    api_key = file.readline().strip()\n",
    "os.environ['OPENAI_API_KEY'] = api_key\n",
    "openai.api_key = os.getenv('OPENAI_API_KEY')"
   ]
  },
  {
   "cell_type": "code",
   "execution_count": 61,
   "metadata": {
    "scrolled": true
   },
   "outputs": [
    {
     "data": {
      "text/html": [
       "<div>\n",
       "<style scoped>\n",
       "    .dataframe tbody tr th:only-of-type {\n",
       "        vertical-align: middle;\n",
       "    }\n",
       "\n",
       "    .dataframe tbody tr th {\n",
       "        vertical-align: top;\n",
       "    }\n",
       "\n",
       "    .dataframe thead th {\n",
       "        text-align: right;\n",
       "    }\n",
       "</style>\n",
       "<table border=\"1\" class=\"dataframe\">\n",
       "  <thead>\n",
       "    <tr style=\"text-align: right;\">\n",
       "      <th></th>\n",
       "      <th>loan_amnt</th>\n",
       "      <th>term</th>\n",
       "      <th>int_rate</th>\n",
       "      <th>installment</th>\n",
       "      <th>grade</th>\n",
       "      <th>sub_grade</th>\n",
       "      <th>emp_title</th>\n",
       "      <th>emp_length</th>\n",
       "      <th>home_ownership</th>\n",
       "      <th>annual_inc</th>\n",
       "      <th>...</th>\n",
       "      <th>open_acc</th>\n",
       "      <th>pub_rec</th>\n",
       "      <th>revol_bal</th>\n",
       "      <th>revol_util</th>\n",
       "      <th>total_acc</th>\n",
       "      <th>initial_list_status</th>\n",
       "      <th>application_type</th>\n",
       "      <th>mort_acc</th>\n",
       "      <th>pub_rec_bankruptcies</th>\n",
       "      <th>address</th>\n",
       "    </tr>\n",
       "  </thead>\n",
       "  <tbody>\n",
       "    <tr>\n",
       "      <th>0</th>\n",
       "      <td>10000.0</td>\n",
       "      <td>36 months</td>\n",
       "      <td>11.44</td>\n",
       "      <td>329.48</td>\n",
       "      <td>B</td>\n",
       "      <td>B4</td>\n",
       "      <td>Marketing</td>\n",
       "      <td>10+ years</td>\n",
       "      <td>RENT</td>\n",
       "      <td>117000.0</td>\n",
       "      <td>...</td>\n",
       "      <td>16.0</td>\n",
       "      <td>0.0</td>\n",
       "      <td>36369.0</td>\n",
       "      <td>41.8</td>\n",
       "      <td>25.0</td>\n",
       "      <td>w</td>\n",
       "      <td>INDIVIDUAL</td>\n",
       "      <td>0.0</td>\n",
       "      <td>0.0</td>\n",
       "      <td>0174 Michelle Gateway\\r\\nMendozaberg, OK 22690</td>\n",
       "    </tr>\n",
       "    <tr>\n",
       "      <th>1</th>\n",
       "      <td>8000.0</td>\n",
       "      <td>36 months</td>\n",
       "      <td>11.99</td>\n",
       "      <td>265.68</td>\n",
       "      <td>B</td>\n",
       "      <td>B5</td>\n",
       "      <td>Credit analyst</td>\n",
       "      <td>4 years</td>\n",
       "      <td>MORTGAGE</td>\n",
       "      <td>65000.0</td>\n",
       "      <td>...</td>\n",
       "      <td>17.0</td>\n",
       "      <td>0.0</td>\n",
       "      <td>20131.0</td>\n",
       "      <td>53.3</td>\n",
       "      <td>27.0</td>\n",
       "      <td>f</td>\n",
       "      <td>INDIVIDUAL</td>\n",
       "      <td>3.0</td>\n",
       "      <td>0.0</td>\n",
       "      <td>1076 Carney Fort Apt. 347\\r\\nLoganmouth, SD 05113</td>\n",
       "    </tr>\n",
       "    <tr>\n",
       "      <th>2</th>\n",
       "      <td>15600.0</td>\n",
       "      <td>36 months</td>\n",
       "      <td>10.49</td>\n",
       "      <td>506.97</td>\n",
       "      <td>B</td>\n",
       "      <td>B3</td>\n",
       "      <td>Statistician</td>\n",
       "      <td>&lt; 1 year</td>\n",
       "      <td>RENT</td>\n",
       "      <td>43057.0</td>\n",
       "      <td>...</td>\n",
       "      <td>13.0</td>\n",
       "      <td>0.0</td>\n",
       "      <td>11987.0</td>\n",
       "      <td>92.2</td>\n",
       "      <td>26.0</td>\n",
       "      <td>f</td>\n",
       "      <td>INDIVIDUAL</td>\n",
       "      <td>0.0</td>\n",
       "      <td>0.0</td>\n",
       "      <td>87025 Mark Dale Apt. 269\\r\\nNew Sabrina, WV 05113</td>\n",
       "    </tr>\n",
       "  </tbody>\n",
       "</table>\n",
       "<p>3 rows × 27 columns</p>\n",
       "</div>"
      ],
      "text/plain": [
       "   loan_amnt        term  int_rate  installment grade sub_grade  \\\n",
       "0    10000.0   36 months     11.44       329.48     B        B4   \n",
       "1     8000.0   36 months     11.99       265.68     B        B5   \n",
       "2    15600.0   36 months     10.49       506.97     B        B3   \n",
       "\n",
       "         emp_title emp_length home_ownership  annual_inc  \\\n",
       "0        Marketing  10+ years           RENT    117000.0   \n",
       "1  Credit analyst     4 years       MORTGAGE     65000.0   \n",
       "2     Statistician   < 1 year           RENT     43057.0   \n",
       "\n",
       "                         ...                         open_acc pub_rec  \\\n",
       "0                        ...                             16.0     0.0   \n",
       "1                        ...                             17.0     0.0   \n",
       "2                        ...                             13.0     0.0   \n",
       "\n",
       "  revol_bal revol_util total_acc  initial_list_status application_type  \\\n",
       "0   36369.0       41.8      25.0                    w       INDIVIDUAL   \n",
       "1   20131.0       53.3      27.0                    f       INDIVIDUAL   \n",
       "2   11987.0       92.2      26.0                    f       INDIVIDUAL   \n",
       "\n",
       "   mort_acc  pub_rec_bankruptcies  \\\n",
       "0       0.0                   0.0   \n",
       "1       3.0                   0.0   \n",
       "2       0.0                   0.0   \n",
       "\n",
       "                                             address  \n",
       "0     0174 Michelle Gateway\\r\\nMendozaberg, OK 22690  \n",
       "1  1076 Carney Fort Apt. 347\\r\\nLoganmouth, SD 05113  \n",
       "2  87025 Mark Dale Apt. 269\\r\\nNew Sabrina, WV 05113  \n",
       "\n",
       "[3 rows x 27 columns]"
      ]
     },
     "execution_count": 61,
     "metadata": {},
     "output_type": "execute_result"
    }
   ],
   "source": [
    "df = pd.read_csv(r'C:\\Users\\mhuh22\\Documents\\Python\\Kaggle\\Data\\lending_club_loan_two\\lending_club_loan_two.csv')\n",
    "df.head(3)"
   ]
  },
  {
   "cell_type": "code",
   "execution_count": 34,
   "metadata": {},
   "outputs": [
    {
     "name": "stdout",
     "output_type": "stream",
     "text": [
      "2023-03-30 18:31:49,683 INFO sqlalchemy.engine.base.Engine SELECT CAST('test plain returns' AS VARCHAR(60)) AS anon_1\n",
      "2023-03-30 18:31:49,685 INFO sqlalchemy.engine.base.Engine ()\n",
      "2023-03-30 18:31:49,687 INFO sqlalchemy.engine.base.Engine SELECT CAST('test unicode returns' AS VARCHAR(60)) AS anon_1\n",
      "2023-03-30 18:31:49,689 INFO sqlalchemy.engine.base.Engine ()\n",
      "2023-03-30 18:31:49,692 INFO sqlalchemy.engine.base.Engine PRAGMA table_info(\"Sales\")\n",
      "2023-03-30 18:31:49,693 INFO sqlalchemy.engine.base.Engine ()\n",
      "2023-03-30 18:31:49,699 INFO sqlalchemy.engine.base.Engine \n",
      "CREATE TABLE \"Sales\" (\n",
      "\t\"index\" BIGINT, \n",
      "\tloan_amnt FLOAT, \n",
      "\tterm TEXT, \n",
      "\tint_rate FLOAT, \n",
      "\tinstallment FLOAT, \n",
      "\tgrade TEXT, \n",
      "\tsub_grade TEXT, \n",
      "\temp_title TEXT, \n",
      "\temp_length TEXT, \n",
      "\thome_ownership TEXT, \n",
      "\tannual_inc FLOAT, \n",
      "\tverification_status TEXT, \n",
      "\tissue_d TEXT, \n",
      "\tloan_status TEXT, \n",
      "\tpurpose TEXT, \n",
      "\ttitle TEXT, \n",
      "\tdti FLOAT, \n",
      "\tearliest_cr_line TEXT, \n",
      "\topen_acc FLOAT, \n",
      "\tpub_rec FLOAT, \n",
      "\trevol_bal FLOAT, \n",
      "\trevol_util FLOAT, \n",
      "\ttotal_acc FLOAT, \n",
      "\tinitial_list_status TEXT, \n",
      "\tapplication_type TEXT, \n",
      "\tmort_acc FLOAT, \n",
      "\tpub_rec_bankruptcies FLOAT, \n",
      "\taddress TEXT\n",
      ")\n",
      "\n",
      "\n",
      "2023-03-30 18:31:49,700 INFO sqlalchemy.engine.base.Engine ()\n",
      "2023-03-30 18:31:49,702 INFO sqlalchemy.engine.base.Engine COMMIT\n",
      "2023-03-30 18:31:49,703 INFO sqlalchemy.engine.base.Engine CREATE INDEX \"ix_Sales_index\" ON \"Sales\" (\"index\")\n",
      "2023-03-30 18:31:49,704 INFO sqlalchemy.engine.base.Engine ()\n",
      "2023-03-30 18:31:49,706 INFO sqlalchemy.engine.base.Engine COMMIT\n",
      "2023-03-30 18:31:51,016 INFO sqlalchemy.engine.base.Engine BEGIN (implicit)\n",
      "2023-03-30 18:32:16,124 INFO sqlalchemy.engine.base.Engine INSERT INTO \"Sales\" (\"index\", loan_amnt, term, int_rate, installment, grade, sub_grade, emp_title, emp_length, home_ownership, annual_inc, verification_status, issue_d, loan_status, purpose, title, dti, earliest_cr_line, open_acc, pub_rec, revol_bal, revol_util, total_acc, initial_list_status, application_type, mort_acc, pub_rec_bankruptcies, address) VALUES (?, ?, ?, ?, ?, ?, ?, ?, ?, ?, ?, ?, ?, ?, ?, ?, ?, ?, ?, ?, ?, ?, ?, ?, ?, ?, ?, ?)\n",
      "2023-03-30 18:32:16,126 INFO sqlalchemy.engine.base.Engine ((0, 10000.0, ' 36 months', 11.44, 329.48, 'B', 'B4', 'Marketing', '10+ years', 'RENT', 117000.0, 'Not Verified', 'Jan-2015', 'Fully Paid', 'vacation', 'Vacation', 26.24, 'Jun-1990', 16.0, 0.0, 36369.0, 41.8, 25.0, 'w', 'INDIVIDUAL', 0.0, 0.0, '0174 Michelle Gateway\\r\\nMendozaberg, OK 22690'), (1, 8000.0, ' 36 months', 11.99, 265.68, 'B', 'B5', 'Credit analyst ', '4 years', 'MORTGAGE', 65000.0, 'Not Verified', 'Jan-2015', 'Fully Paid', 'debt_consolidation', 'Debt consolidation', 22.05, 'Jul-2004', 17.0, 0.0, 20131.0, 53.3, 27.0, 'f', 'INDIVIDUAL', 3.0, 0.0, '1076 Carney Fort Apt. 347\\r\\nLoganmouth, SD 05113'), (2, 15600.0, ' 36 months', 10.49, 506.97, 'B', 'B3', 'Statistician', '< 1 year', 'RENT', 43057.0, 'Source Verified', 'Jan-2015', 'Fully Paid', 'credit_card', 'Credit card refinancing', 12.79, 'Aug-2007', 13.0, 0.0, 11987.0, 92.2, 26.0, 'f', 'INDIVIDUAL', 0.0, 0.0, '87025 Mark Dale Apt. 269\\r\\nNew Sabrina, WV 05113'), (3, 7200.0, ' 36 months', 6.49, 220.65, 'A', 'A2', 'Client Advocate', '6 years', 'RENT', 54000.0, 'Not Verified', 'Nov-2014', 'Fully Paid', 'credit_card', 'Credit card refinancing', 2.6, 'Sep-2006', 6.0, 0.0, 5472.0, 21.5, 13.0, 'f', 'INDIVIDUAL', 0.0, 0.0, '823 Reid Ford\\r\\nDelacruzside, MA 00813'), (4, 24375.0, ' 60 months', 17.27, 609.33, 'C', 'C5', 'Destiny Management Inc.', '9 years', 'MORTGAGE', 55000.0, 'Verified', 'Apr-2013', 'Charged Off', 'credit_card', 'Credit Card Refinance', 33.95, 'Mar-1999', 13.0, 0.0, 24584.0, 69.8, 43.0, 'f', 'INDIVIDUAL', 1.0, 0.0, '679 Luna Roads\\r\\nGreggshire, VA 11650'), (5, 20000.0, ' 36 months', 13.33, 677.07, 'C', 'C3', 'HR Specialist', '10+ years', 'MORTGAGE', 86788.0, 'Verified', 'Sep-2015', 'Fully Paid', 'debt_consolidation', 'Debt consolidation', 16.31, 'Jan-2005', 8.0, 0.0, 25757.0, 100.6, 23.0, 'f', 'INDIVIDUAL', 4.0, 0.0, '1726 Cooper Passage Suite 129\\r\\nNorth Deniseberg, DE 30723'), (6, 18000.0, ' 36 months', 5.32, 542.07, 'A', 'A1', 'Software Development Engineer', '2 years', 'MORTGAGE', 125000.0, 'Source Verified', 'Sep-2015', 'Fully Paid', 'home_improvement', 'Home improvement', 1.36, 'Aug-2005', 8.0, 0.0, 4178.0, 4.9, 25.0, 'f', 'INDIVIDUAL', 3.0, 0.0, '1008 Erika Vista Suite 748\\r\\nEast Stephanie, TX 22690'), (7, 13000.0, ' 36 months', 11.14, 426.47, 'B', 'B2', 'Office Depot', '10+ years', 'RENT', 46000.0, 'Not Verified', 'Sep-2012', 'Fully Paid', 'credit_card', 'No More Credit Cards', 26.87, 'Sep-1994', 11.0, 0.0, 13425.0, 64.5, 15.0, 'f', 'INDIVIDUAL', 0.0, 0.0, 'USCGC Nunez\\r\\nFPO AE 30723')  ... displaying 10 of 396030 total bound parameter sets ...  (396028, 21000.0, ' 60 months', 15.31, 503.02, 'C', 'C2', 'Gracon Services, Inc', '10+ years', 'MORTGAGE', 64000.0, 'Verified', 'Aug-2012', 'Fully Paid', 'debt_consolidation', 'Loanforpayoff', 15.88, 'Nov-1990', 9.0, 0.0, 15704.0, 53.8, 20.0, 'f', 'INDIVIDUAL', 5.0, 0.0, '7843 Blake Freeway Apt. 229\\r\\nNew Michael, FL 29597'), (396029, 2000.0, ' 36 months', 13.61, 67.98, 'C', 'C2', 'Internal Revenue Service', '10+ years', 'RENT', 42996.0, 'Verified', 'Jun-2010', 'Fully Paid', 'debt_consolidation', 'Toxic Debt Payoff', 8.32, 'Sep-1998', 3.0, 0.0, 4292.0, 91.3, 19.0, 'f', 'INDIVIDUAL', None, 0.0, '787 Michelle Causeway\\r\\nBriannaton, AR 48052'))\n",
      "2023-03-30 18:32:22,135 INFO sqlalchemy.engine.base.Engine COMMIT\n",
      "2023-03-30 18:32:22,296 INFO sqlalchemy.engine.base.Engine SELECT name FROM sqlite_master WHERE type='table' ORDER BY name\n",
      "2023-03-30 18:32:22,297 INFO sqlalchemy.engine.base.Engine ()\n"
     ]
    }
   ],
   "source": [
    "# Create a sql engine, and push df to sql table in memory\n",
    "temp_db = create_engine('sqlite:///:memory:',echo=True)\n",
    "\n",
    "data = df.to_sql(name='Sales',con=temp_db)"
   ]
  },
  {
   "cell_type": "code",
   "execution_count": 44,
   "metadata": {},
   "outputs": [
    {
     "name": "stdout",
     "output_type": "stream",
     "text": [
      "2023-03-30 18:39:51,350 INFO sqlalchemy.engine.base.Engine SELECT AVG(loan_amnt) FROM Sales\n",
      "2023-03-30 18:39:51,352 INFO sqlalchemy.engine.base.Engine ()\n"
     ]
    }
   ],
   "source": [
    "with temp_db.connect() as conn:\n",
    "    # Makes the connectin\n",
    "    result = conn.execute(text(\"SELECT AVG(loan_amnt) FROM Sales\"))"
   ]
  },
  {
   "cell_type": "code",
   "execution_count": 46,
   "metadata": {},
   "outputs": [
    {
     "data": {
      "text/plain": [
       "[(14113.888089286165,)]"
      ]
     },
     "execution_count": 46,
     "metadata": {},
     "output_type": "execute_result"
    }
   ],
   "source": [
    "result.fetchall()"
   ]
  },
  {
   "cell_type": "code",
   "execution_count": 47,
   "metadata": {},
   "outputs": [],
   "source": [
    "def create_table_definition(df):\n",
    "    prompt = \"\"\"### sqlite SQL table, with it properties\n",
    "    #\n",
    "    # Sales({})\n",
    "    #\n",
    "    \"\"\".format(\",\".join(str(col) for col in df.columns))\n",
    "    \n",
    "    return prompt"
   ]
  },
  {
   "cell_type": "code",
   "execution_count": 51,
   "metadata": {},
   "outputs": [
    {
     "data": {
      "text/plain": [
       "'### sqlite SQL table, with it properties\\n    #\\n    # Sales(loan_amnt,term,int_rate,installment,grade,sub_grade,emp_title,emp_length,home_ownership,annual_inc,verification_status,issue_d,loan_status,purpose,title,dti,earliest_cr_line,open_acc,pub_rec,revol_bal,revol_util,total_acc,initial_list_status,application_type,mort_acc,pub_rec_bankruptcies,address)\\n    #\\n    '"
      ]
     },
     "execution_count": 51,
     "metadata": {},
     "output_type": "execute_result"
    }
   ],
   "source": [
    "create_table_definition(df)"
   ]
  },
  {
   "cell_type": "code",
   "execution_count": 52,
   "metadata": {},
   "outputs": [],
   "source": [
    "def prompt_input():\n",
    "    nlp_text = input(\"Enter the info you want: \")\n",
    "    return nlp_text"
   ]
  },
  {
   "cell_type": "code",
   "execution_count": 73,
   "metadata": {},
   "outputs": [
    {
     "name": "stdout",
     "output_type": "stream",
     "text": [
      "Enter the info you want: average loan amount by term\n"
     ]
    },
    {
     "data": {
      "text/plain": [
       "'average loan amount by term'"
      ]
     },
     "execution_count": 73,
     "metadata": {},
     "output_type": "execute_result"
    }
   ],
   "source": [
    "prompt_input()"
   ]
  },
  {
   "cell_type": "code",
   "execution_count": 77,
   "metadata": {},
   "outputs": [],
   "source": [
    "def combine_prompts(df, query_prompt):\n",
    "    definition = create_table_definition(df)\n",
    "    query_init_string = f\"### A query to answer: {query_prompt}\\nSELECT\"\n",
    "    return definition + query_init_string"
   ]
  },
  {
   "cell_type": "code",
   "execution_count": 86,
   "metadata": {},
   "outputs": [
    {
     "name": "stdout",
     "output_type": "stream",
     "text": [
      "Enter the info you want: average loan amount by term\n"
     ]
    },
    {
     "data": {
      "text/plain": [
       "'### sqlite SQL table, with it properties\\n    #\\n    # Sales(loan_amnt,term,int_rate,installment,grade,sub_grade,emp_title,emp_length,home_ownership,annual_inc,verification_status,issue_d,loan_status,purpose,title,dti,earliest_cr_line,open_acc,pub_rec,revol_bal,revol_util,total_acc,initial_list_status,application_type,mort_acc,pub_rec_bankruptcies,address)\\n    #\\n    ### A query to answer: average loan amount by term\\nSELECT'"
      ]
     },
     "execution_count": 86,
     "metadata": {},
     "output_type": "execute_result"
    }
   ],
   "source": [
    "nlp_text = prompt_input()\n",
    "combine_prompts(df,nlp_text)"
   ]
  },
  {
   "cell_type": "code",
   "execution_count": 87,
   "metadata": {},
   "outputs": [],
   "source": [
    "prompt = combine_prompts(df,nlp_text)"
   ]
  },
  {
   "cell_type": "code",
   "execution_count": 88,
   "metadata": {},
   "outputs": [
    {
     "name": "stdout",
     "output_type": "stream",
     "text": [
      "### sqlite SQL table, with it properties\n",
      "    #\n",
      "    # Sales(loan_amnt,term,int_rate,installment,grade,sub_grade,emp_title,emp_length,home_ownership,annual_inc,verification_status,issue_d,loan_status,purpose,title,dti,earliest_cr_line,open_acc,pub_rec,revol_bal,revol_util,total_acc,initial_list_status,application_type,mort_acc,pub_rec_bankruptcies,address)\n",
      "    #\n",
      "    ### A query to answer: average loan amount by term\n",
      "SELECT\n"
     ]
    }
   ],
   "source": [
    "print(prompt)"
   ]
  },
  {
   "cell_type": "code",
   "execution_count": 89,
   "metadata": {},
   "outputs": [],
   "source": [
    "response = openai.Completion.create(\n",
    "    model = 'text-davinci-003',\n",
    "    prompt = combine_prompts(df,nlp_text),\n",
    "    temperature = 0,\n",
    "    max_tokens = 150,\n",
    "    top_p = 1.0,\n",
    "    frequency_penalty = 0,\n",
    "    presence_penalty = 0,\n",
    "    stop = ['#',';']\n",
    ")"
   ]
  },
  {
   "cell_type": "code",
   "execution_count": 90,
   "metadata": {},
   "outputs": [
    {
     "data": {
      "text/plain": [
       "<OpenAIObject text_completion id=cmpl-6zwvbraVt57eGTKnBTqVeieAqd56p at 0x162a6385c50> JSON: {\n",
       "  \"choices\": [\n",
       "    {\n",
       "      \"finish_reason\": \"stop\",\n",
       "      \"index\": 0,\n",
       "      \"logprobs\": null,\n",
       "      \"text\": \" AVG(loan_amnt)\\nFROM Sales\\nGROUP BY term\"\n",
       "    }\n",
       "  ],\n",
       "  \"created\": 1680222547,\n",
       "  \"id\": \"cmpl-6zwvbraVt57eGTKnBTqVeieAqd56p\",\n",
       "  \"model\": \"text-davinci-003\",\n",
       "  \"object\": \"text_completion\",\n",
       "  \"usage\": {\n",
       "    \"completion_tokens\": 16,\n",
       "    \"prompt_tokens\": 148,\n",
       "    \"total_tokens\": 164\n",
       "  }\n",
       "}"
      ]
     },
     "execution_count": 90,
     "metadata": {},
     "output_type": "execute_result"
    }
   ],
   "source": [
    "response"
   ]
  },
  {
   "cell_type": "code",
   "execution_count": 91,
   "metadata": {},
   "outputs": [
    {
     "data": {
      "text/plain": [
       "' AVG(loan_amnt)\\nFROM Sales\\nGROUP BY term'"
      ]
     },
     "execution_count": 91,
     "metadata": {},
     "output_type": "execute_result"
    }
   ],
   "source": [
    "response['choices'][0]['text']"
   ]
  },
  {
   "cell_type": "code",
   "execution_count": 92,
   "metadata": {},
   "outputs": [],
   "source": [
    "def handle_response(response):\n",
    "    query = response['choices'][0]['text']\n",
    "    if query.startswith(\" \"):\n",
    "        query = \"SELECT\" + query\n",
    "    return query"
   ]
  },
  {
   "cell_type": "code",
   "execution_count": 93,
   "metadata": {},
   "outputs": [
    {
     "name": "stdout",
     "output_type": "stream",
     "text": [
      "SELECT AVG(loan_amnt)\n",
      "FROM Sales\n",
      "GROUP BY term\n"
     ]
    }
   ],
   "source": [
    "print(handle_response(response))"
   ]
  },
  {
   "cell_type": "code",
   "execution_count": null,
   "metadata": {},
   "outputs": [],
   "source": []
  }
 ],
 "metadata": {
  "kernelspec": {
   "display_name": "Python 3",
   "language": "python",
   "name": "python3"
  },
  "language_info": {
   "codemirror_mode": {
    "name": "ipython",
    "version": 3
   },
   "file_extension": ".py",
   "mimetype": "text/x-python",
   "name": "python",
   "nbconvert_exporter": "python",
   "pygments_lexer": "ipython3",
   "version": "3.7.0"
  }
 },
 "nbformat": 4,
 "nbformat_minor": 2
}
