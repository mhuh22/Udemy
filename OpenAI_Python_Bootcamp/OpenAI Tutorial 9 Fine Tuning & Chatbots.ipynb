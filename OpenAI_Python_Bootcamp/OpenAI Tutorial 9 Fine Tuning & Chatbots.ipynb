{
 "cells": [
  {
   "cell_type": "code",
   "execution_count": 14,
   "id": "5ae5cfb0",
   "metadata": {},
   "outputs": [],
   "source": [
    "import os\n",
    "import pandas as pd\n",
    "import json\n",
    "\n",
    "import openai\n",
    "import tiktoken\n",
    "\n",
    "# Import and pass api key\n",
    "with open(r'C:\\Users\\mhuh22\\Desktop\\openai_api.txt', 'r') as file:\n",
    "    api_key = file.readline().strip()\n",
    "os.environ['OPENAI_API_KEY'] = api_key\n",
    "openai.api_key = os.getenv('OPENAI_API_KEY')"
   ]
  },
  {
   "cell_type": "code",
   "execution_count": 11,
   "id": "4f73a8e7",
   "metadata": {},
   "outputs": [
    {
     "data": {
      "text/html": [
       "<div>\n",
       "<style scoped>\n",
       "    .dataframe tbody tr th:only-of-type {\n",
       "        vertical-align: middle;\n",
       "    }\n",
       "\n",
       "    .dataframe tbody tr th {\n",
       "        vertical-align: top;\n",
       "    }\n",
       "\n",
       "    .dataframe thead th {\n",
       "        text-align: right;\n",
       "    }\n",
       "</style>\n",
       "<table border=\"1\" class=\"dataframe\">\n",
       "  <thead>\n",
       "    <tr style=\"text-align: right;\">\n",
       "      <th></th>\n",
       "      <th>Id</th>\n",
       "      <th>OwnerUserId</th>\n",
       "      <th>CreationDate</th>\n",
       "      <th>ClosedDate</th>\n",
       "      <th>Score</th>\n",
       "      <th>Title</th>\n",
       "      <th>Body</th>\n",
       "      <th>ParentId</th>\n",
       "      <th>Answer</th>\n",
       "    </tr>\n",
       "  </thead>\n",
       "  <tbody>\n",
       "    <tr>\n",
       "      <th>0</th>\n",
       "      <td>11060</td>\n",
       "      <td>912.0</td>\n",
       "      <td>2008-08-14T13:59:21Z</td>\n",
       "      <td>NaN</td>\n",
       "      <td>18</td>\n",
       "      <td>How should I unit test a code-generator?</td>\n",
       "      <td>This is a difficult and open-ended question I ...</td>\n",
       "      <td>11060</td>\n",
       "      <td>I started writing up a summary of my experienc...</td>\n",
       "    </tr>\n",
       "    <tr>\n",
       "      <th>1</th>\n",
       "      <td>17250</td>\n",
       "      <td>394.0</td>\n",
       "      <td>2008-08-20T00:16:40Z</td>\n",
       "      <td>NaN</td>\n",
       "      <td>24</td>\n",
       "      <td>Create an encrypted ZIP file in Python</td>\n",
       "      <td>I'm creating an ZIP file with ZipFile in Pytho...</td>\n",
       "      <td>17250</td>\n",
       "      <td>I created a simple library to create a passwor...</td>\n",
       "    </tr>\n",
       "    <tr>\n",
       "      <th>2</th>\n",
       "      <td>31340</td>\n",
       "      <td>242853.0</td>\n",
       "      <td>2008-08-27T23:44:47Z</td>\n",
       "      <td>NaN</td>\n",
       "      <td>71</td>\n",
       "      <td>How do threads work in Python, and what are co...</td>\n",
       "      <td>I've been trying to wrap my head around how th...</td>\n",
       "      <td>31340</td>\n",
       "      <td>Yes, because of the Global Interpreter Lock (G...</td>\n",
       "    </tr>\n",
       "  </tbody>\n",
       "</table>\n",
       "</div>"
      ],
      "text/plain": [
       "      Id  OwnerUserId          CreationDate ClosedDate  Score  \\\n",
       "0  11060        912.0  2008-08-14T13:59:21Z        NaN     18   \n",
       "1  17250        394.0  2008-08-20T00:16:40Z        NaN     24   \n",
       "2  31340     242853.0  2008-08-27T23:44:47Z        NaN     71   \n",
       "\n",
       "                                               Title  \\\n",
       "0           How should I unit test a code-generator?   \n",
       "1             Create an encrypted ZIP file in Python   \n",
       "2  How do threads work in Python, and what are co...   \n",
       "\n",
       "                                                Body  ParentId  \\\n",
       "0  This is a difficult and open-ended question I ...     11060   \n",
       "1  I'm creating an ZIP file with ZipFile in Pytho...     17250   \n",
       "2  I've been trying to wrap my head around how th...     31340   \n",
       "\n",
       "                                              Answer  \n",
       "0  I started writing up a summary of my experienc...  \n",
       "1  I created a simple library to create a passwor...  \n",
       "2  Yes, because of the Global Interpreter Lock (G...  "
      ]
     },
     "execution_count": 11,
     "metadata": {},
     "output_type": "execute_result"
    }
   ],
   "source": [
    "qa_df = pd.read_csv(r'UPDATED-MARCH-2023-Notebooks-and-Files\\UPDATED-MARCH-2023-Notebooks-and-Files\\08-Chat-Bot-with-Fine-Tuning\\python_qa.csv')\n",
    "qa_df.head(3)"
   ]
  },
  {
   "cell_type": "code",
   "execution_count": 6,
   "id": "7f0bbdb5",
   "metadata": {},
   "outputs": [],
   "source": [
    "# Create lists from the two columns\n",
    "questions,answers = qa_df['Body'], qa_df['Answer']\n",
    "\n",
    "# Create a dictionary from the two lists\n",
    "qa_openai_format = [ {'prompt':q, 'completion':a}  for q,a in zip(questions,answers)]"
   ]
  },
  {
   "cell_type": "code",
   "execution_count": 15,
   "id": "cbb7a7ff",
   "metadata": {},
   "outputs": [
    {
     "data": {
      "text/plain": [
       "'I am taking a class that requires Python. We will review the language in class next week, and I am a quick study on new languages, but I was wondering if there are any really great Python books I can grab while I am struggling through the basics of setting up my IDE, server environment and all those other \"gotchas\" that come with a new programming language. Suggestions?\\n'"
      ]
     },
     "execution_count": 15,
     "metadata": {},
     "output_type": "execute_result"
    }
   ],
   "source": [
    "qa_openai_format[4]['prompt']"
   ]
  },
  {
   "cell_type": "code",
   "execution_count": 21,
   "id": "82229766",
   "metadata": {},
   "outputs": [],
   "source": [
    "response = openai.Completion.create(\n",
    "    model = 'text-babbage-001',\n",
    "    prompt = qa_openai_format[4]['prompt'],\n",
    "    max_tokens = 250,\n",
    "    temperature = 0\n",
    ")"
   ]
  },
  {
   "cell_type": "code",
   "execution_count": 22,
   "id": "f60bd1a4",
   "metadata": {},
   "outputs": [
    {
     "data": {
      "text/plain": [
       "'\\nThere are a few great Python books that you could consider while you are learning Python. One book that is particularly helpful is \"Python for Data Science\" by Geoffrey Hinton. This book is packed with information on data science and Python, and it is a great resource for anyone who wants to learn Python for data science purposes. Another great book to consider is \"Python for Data Science Mastery\" by Michael Nielsen. This book is designed to help you learn more about data science and Python, and it is a great resource for anyone who wants to learn more about Python for data science purposes.'"
      ]
     },
     "execution_count": 22,
     "metadata": {},
     "output_type": "execute_result"
    }
   ],
   "source": [
    "response['choices'][0]['text']"
   ]
  },
  {
   "cell_type": "code",
   "execution_count": 25,
   "id": "44da8c99",
   "metadata": {},
   "outputs": [],
   "source": [
    "# Calculate the number of tokens from the string for cost purposes\n",
    "def num_tokens_from_string(string,encoding_name):\n",
    "    encoding = tiktoken.get_encoding(encoding_name)\n",
    "    num_tokens = len(encoding.encode(string))\n",
    "    return num_tokens"
   ]
  },
  {
   "cell_type": "code",
   "execution_count": 39,
   "id": "fa6fd31f",
   "metadata": {},
   "outputs": [],
   "source": [
    "dataset_size = 500\n",
    "\n",
    "with open('example_training_data.json','w') as f:\n",
    "    for entry in qa_openai_format:\n",
    "        f.write(json.dumps(entry))\n",
    "        f.write('\\n')"
   ]
  },
  {
   "cell_type": "code",
   "execution_count": 43,
   "id": "9e14c917",
   "metadata": {},
   "outputs": [
    {
     "data": {
      "text/plain": [
       "197362"
      ]
     },
     "execution_count": 43,
     "metadata": {},
     "output_type": "execute_result"
    }
   ],
   "source": [
    "token_counter = 0\n",
    "\n",
    "for element in qa_openai_format[:500]:\n",
    "    for prompt, completion in element.items():\n",
    "        token_counter += num_tokens_from_string(prompt,'gpt2')\n",
    "        token_counter += num_tokens_from_string(completion,'gpt2')\n",
    "        \n",
    "token_counter"
   ]
  },
  {
   "cell_type": "code",
   "execution_count": 44,
   "id": "f5b8f42e",
   "metadata": {},
   "outputs": [
    {
     "data": {
      "text/plain": [
       "0.4736688"
      ]
     },
     "execution_count": 44,
     "metadata": {},
     "output_type": "execute_result"
    }
   ],
   "source": [
    "# GPT-3 model training cost\n",
    "# $0.0006 / 1000 tokens (training) * 4 epochs\n",
    "def compute_gpt_cost(tokens, version='gpt2'):\n",
    "    if version == 'gpt2':\n",
    "        cost = 0.0006 * 4 * token_counter / 1000\n",
    "    return cost\n",
    "        \n",
    "compute_gpt_cost(token_counter)"
   ]
  },
  {
   "cell_type": "code",
   "execution_count": 41,
   "id": "fe6d159f",
   "metadata": {},
   "outputs": [
    {
     "data": {
      "text/plain": [
       "4429"
      ]
     },
     "execution_count": 41,
     "metadata": {},
     "output_type": "execute_result"
    }
   ],
   "source": [
    "len(qa_openai_format)"
   ]
  },
  {
   "cell_type": "code",
   "execution_count": null,
   "id": "f8aa3cdf",
   "metadata": {},
   "outputs": [],
   "source": []
  }
 ],
 "metadata": {
  "kernelspec": {
   "display_name": "Python 3 (ipykernel)",
   "language": "python",
   "name": "python3"
  },
  "language_info": {
   "codemirror_mode": {
    "name": "ipython",
    "version": 3
   },
   "file_extension": ".py",
   "mimetype": "text/x-python",
   "name": "python",
   "nbconvert_exporter": "python",
   "pygments_lexer": "ipython3",
   "version": "3.10.9"
  }
 },
 "nbformat": 4,
 "nbformat_minor": 5
}
