{
 "cells": [
  {
   "cell_type": "markdown",
   "id": "e4cb8f7d",
   "metadata": {},
   "source": [
    "### Chat Completion\n",
    "* This API functions like the webui, meaning that it is able to retain knowledge from prior conversations to an extent"
   ]
  },
  {
   "cell_type": "code",
   "execution_count": 1,
   "id": "de13dee7",
   "metadata": {},
   "outputs": [],
   "source": [
    "import os\n",
    "import openai\n",
    "import numpy as np\n",
    "import pandas as pd\n",
    "import ast\n",
    "\n",
    "# Import and pass api key\n",
    "with open(r'C:\\Users\\mhuh22\\Desktop\\openai_api.txt', 'r') as file:\n",
    "    api_key = file.readline().strip()\n",
    "os.environ['OPENAI_API_KEY'] = api_key\n",
    "openai.api_key = os.getenv('OPENAI_API_KEY')"
   ]
  },
  {
   "cell_type": "code",
   "execution_count": 2,
   "id": "88569a02",
   "metadata": {},
   "outputs": [],
   "source": [
    "response = openai.ChatCompletion.create(\n",
    "    model='gpt-3.5-turbo',\n",
    "    messages = [\n",
    "        {'role':'system', 'content':'You are a US History Tutor'},\n",
    "        {'role':'user', 'content':'Who was the first US president'},\n",
    "        {'role':'assistant', 'content':'The first US President was George Washington'},\n",
    "        {'role':'user', 'content':'What year was he born?'}\n",
    "    ]\n",
    ")"
   ]
  },
  {
   "cell_type": "code",
   "execution_count": 3,
   "id": "45b30905",
   "metadata": {},
   "outputs": [
    {
     "data": {
      "text/plain": [
       "'George Washington was born on February 22, 1732.'"
      ]
     },
     "execution_count": 3,
     "metadata": {},
     "output_type": "execute_result"
    }
   ],
   "source": [
    "response['choices'][0]['message']['content']"
   ]
  },
  {
   "cell_type": "code",
   "execution_count": 10,
   "id": "d0d573de",
   "metadata": {},
   "outputs": [],
   "source": [
    "class CreateBot:\n",
    "    \n",
    "    def __init__(self, system_prompt):\n",
    "        self.system = system_prompt\n",
    "        self.messages = [{'role':'system', 'content':system_prompt}]\n",
    "    \n",
    "    def chat(self):\n",
    "        print('To terminate the conversation, type \"END\"')\n",
    "        question = ''\n",
    "        \n",
    "        while question != 'END':\n",
    "            # User input\n",
    "            question = input('')\n",
    "            print('\\n')\n",
    "            \n",
    "            # Add user messages to message history\n",
    "            self.messages.append({'role':'user','content':question})\n",
    "            \n",
    "            response = openai.ChatCompletion.create(\n",
    "                model = 'gpt-3.5-turbo',\n",
    "                messages = self.messages\n",
    "            )\n",
    "            \n",
    "            # Add messages from oepnai\n",
    "            content = response['choices'][0]['message']['content']\n",
    "            print('\\n')\n",
    "            print(content)\n",
    "            print('\\n')\n",
    "            self.messages.append({'role':'assistant','content':content})\n",
    "        # Input()\n",
    "        "
   ]
  },
  {
   "cell_type": "code",
   "execution_count": 11,
   "id": "b23f38eb",
   "metadata": {},
   "outputs": [],
   "source": [
    "history_tutor = CreateBot(system_prompt = 'You are a US History Tutor')"
   ]
  },
  {
   "cell_type": "code",
   "execution_count": 12,
   "id": "dac8c22c",
   "metadata": {},
   "outputs": [
    {
     "name": "stdout",
     "output_type": "stream",
     "text": [
      "To terminate the conversation, type \"END\"\n",
      "Who was the first US president?\n",
      "\n",
      "\n",
      "\n",
      "\n",
      "The first US president was George Washington.\n",
      "\n",
      "\n",
      "Where did he live?\n",
      "\n",
      "\n",
      "\n",
      "\n",
      "As the first US president, George Washington lived in several locations including Mount Vernon, Virginia, his private estate, as well as temporary residences in New York City and Philadelphia while serving as president.\n",
      "\n",
      "\n",
      "How were his trips to Europe?\n",
      "\n",
      "\n",
      "\n",
      "\n",
      "George Washington made two trips to Europe during his lifetime. His first trip, in 1751, was as a young man and involved a voyage to Barbados in the Caribbean to try and cure his brother's tuberculosis. His second and more significant trip was in 1789, after he was elected as the first president of the United States. \n",
      "\n",
      "The 1789 trip was to New York City, then the temporary capital of the new nation, to be inaugurated as president. During his presidency, he did not travel outside of the United States, although he did visit numerous states and cities as part of his duties. \n",
      "\n",
      "Overall, his trips to Europe were limited, as he spent the majority of his life and career within the United States.\n",
      "\n",
      "\n",
      "END\n",
      "\n",
      "\n",
      "\n",
      "\n",
      "Thank you, please let me know if you have any further questions.\n",
      "\n",
      "\n"
     ]
    }
   ],
   "source": [
    "history_tutor.chat()"
   ]
  },
  {
   "cell_type": "code",
   "execution_count": 14,
   "id": "693311a8",
   "metadata": {},
   "outputs": [],
   "source": [
    "full_text = ''\n",
    "for item in history_tutor.messages:\n",
    "    full_text += item['content']"
   ]
  },
  {
   "cell_type": "code",
   "execution_count": 17,
   "id": "e6d7031c",
   "metadata": {},
   "outputs": [
    {
     "data": {
      "text/plain": [
       "191"
      ]
     },
     "execution_count": 17,
     "metadata": {},
     "output_type": "execute_result"
    }
   ],
   "source": [
    "len(full_text.split())"
   ]
  },
  {
   "cell_type": "code",
   "execution_count": 19,
   "id": "ea405587",
   "metadata": {},
   "outputs": [],
   "source": [
    "import tiktoken\n",
    "\n",
    "def num_token_from_string(string,encoding_name):\n",
    "    encoding = tiktoken.get_encoding(encoding_name)\n",
    "    num_tokens = len(encoding.encode(string))\n",
    "    return num_tokens"
   ]
  },
  {
   "cell_type": "code",
   "execution_count": 21,
   "id": "06fb6b64",
   "metadata": {},
   "outputs": [
    {
     "name": "stdout",
     "output_type": "stream",
     "text": [
      "Characters: 1131 \n",
      "Words: 191 \n",
      "Tokens: 233\n"
     ]
    }
   ],
   "source": [
    "# 1000 tokens ~ 750 words\n",
    "num_tokens = num_token_from_string(full_text, 'cl100k_base')\n",
    "\n",
    "# Len of string \n",
    "num_characters = len(full_text)\n",
    "num_words = len(full_text.split())\n",
    "\n",
    "print(f\"Characters: {num_characters} \\nWords: {num_words} \\nTokens: {num_tokens}\")"
   ]
  },
  {
   "cell_type": "code",
   "execution_count": 20,
   "id": "77fb91f7",
   "metadata": {},
   "outputs": [
    {
     "data": {
      "text/plain": [
       "\"You are a US History TutorWho was the first US president?The first US president was George Washington.Where did he live?As the first US president, George Washington lived in several locations including Mount Vernon, Virginia, his private estate, as well as temporary residences in New York City and Philadelphia while serving as president.How were his trips to Europe?George Washington made two trips to Europe during his lifetime. His first trip, in 1751, was as a young man and involved a voyage to Barbados in the Caribbean to try and cure his brother's tuberculosis. His second and more significant trip was in 1789, after he was elected as the first president of the United States. \\n\\nThe 1789 trip was to New York City, then the temporary capital of the new nation, to be inaugurated as president. During his presidency, he did not travel outside of the United States, although he did visit numerous states and cities as part of his duties. \\n\\nOverall, his trips to Europe were limited, as he spent the majority of his life and career within the United States.ENDThank you, please let me know if you have any further questions.\""
      ]
     },
     "execution_count": 20,
     "metadata": {},
     "output_type": "execute_result"
    }
   ],
   "source": [
    "full_text"
   ]
  },
  {
   "cell_type": "code",
   "execution_count": null,
   "id": "e4820451",
   "metadata": {},
   "outputs": [],
   "source": []
  }
 ],
 "metadata": {
  "kernelspec": {
   "display_name": "Python 3 (ipykernel)",
   "language": "python",
   "name": "python3"
  },
  "language_info": {
   "codemirror_mode": {
    "name": "ipython",
    "version": 3
   },
   "file_extension": ".py",
   "mimetype": "text/x-python",
   "name": "python",
   "nbconvert_exporter": "python",
   "pygments_lexer": "ipython3",
   "version": "3.10.9"
  }
 },
 "nbformat": 4,
 "nbformat_minor": 5
}
