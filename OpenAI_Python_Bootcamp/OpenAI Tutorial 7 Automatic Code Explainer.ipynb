{
 "cells": [
  {
   "cell_type": "markdown",
   "id": "9c01e645",
   "metadata": {},
   "source": [
    "### OpenAI Tutorial 7 Automatic Code Explainer\n",
    "* This tutorial teaches you how to pass in a function to "
   ]
  },
  {
   "cell_type": "code",
   "execution_count": 1,
   "id": "b1614b9f",
   "metadata": {},
   "outputs": [],
   "source": [
    "import os\n",
    "import openai\n",
    "\n",
    "# Import and pass api key\n",
    "with open(r'C:\\Users\\mhuh22\\Desktop\\openai_api.txt', 'r') as file:\n",
    "    api_key = file.readline().strip()\n",
    "os.environ['OPENAI_API_KEY'] = api_key\n",
    "openai.api_key = os.getenv('OPENAI_API_KEY')"
   ]
  },
  {
   "cell_type": "code",
   "execution_count": 2,
   "id": "84f087e5",
   "metadata": {},
   "outputs": [],
   "source": [
    "# Python\n",
    "# Function (OOP)\n",
    "# \"\"\"\"\"\"\n"
   ]
  },
  {
   "cell_type": "code",
   "execution_count": 3,
   "id": "44849dc4",
   "metadata": {},
   "outputs": [],
   "source": [
    "def hello(name):\n",
    "    print(f\"Hello {name}\")"
   ]
  },
  {
   "cell_type": "code",
   "execution_count": 4,
   "id": "dc894103",
   "metadata": {},
   "outputs": [
    {
     "name": "stdout",
     "output_type": "stream",
     "text": [
      "Hello Matt\n"
     ]
    }
   ],
   "source": [
    "hello('Matt')"
   ]
  },
  {
   "cell_type": "code",
   "execution_count": 7,
   "id": "51d8ae13",
   "metadata": {},
   "outputs": [],
   "source": [
    "string = \"is some words \\\"\\\"\\\" \""
   ]
  },
  {
   "cell_type": "code",
   "execution_count": 8,
   "id": "1f18b72f",
   "metadata": {},
   "outputs": [
    {
     "name": "stdout",
     "output_type": "stream",
     "text": [
      "is some words \"\"\" \n"
     ]
    }
   ],
   "source": [
    "print(string)"
   ]
  },
  {
   "cell_type": "code",
   "execution_count": 9,
   "id": "7162bbec",
   "metadata": {},
   "outputs": [],
   "source": [
    "def docstring_prompt(code):\n",
    "    prompt = f\"{code}\\n # A high quality python docstring of the above python function:\\n\\\"\\\"\\\"\"\n",
    "    return prompt"
   ]
  },
  {
   "cell_type": "code",
   "execution_count": 12,
   "id": "7aec5049",
   "metadata": {},
   "outputs": [
    {
     "name": "stdout",
     "output_type": "stream",
     "text": [
      "def hello(name):\n",
      "    print(f\"Hello {name}\")\n",
      "\n"
     ]
    }
   ],
   "source": [
    "import inspect # Can be used to grab the entirety of a function\n",
    "\n",
    "print(inspect.getsource(hello))"
   ]
  },
  {
   "cell_type": "code",
   "execution_count": 14,
   "id": "47340707",
   "metadata": {},
   "outputs": [
    {
     "name": "stdout",
     "output_type": "stream",
     "text": [
      "def hello(name):\n",
      "    print(f\"Hello {name}\")\n",
      "\n",
      " # A high quality python docstring of the above Python function:\n",
      " \"\"\"\n"
     ]
    }
   ],
   "source": [
    "print(docstring_prompt(inspect.getsource(hello)))"
   ]
  },
  {
   "cell_type": "code",
   "execution_count": 17,
   "id": "cc3b3cca",
   "metadata": {},
   "outputs": [],
   "source": [
    "response = openai.Completion.create(\n",
    "    model = 'text-davinci-003',\n",
    "    prompt = docstring_prompt(inspect.getsource(hello)),\n",
    "    temperature = 0,\n",
    "    max_tokens = 100,\n",
    "    top_p = 1.0,\n",
    "    stop = [\"\\\"\\\"\\\"\"]\n",
    ")"
   ]
  },
  {
   "cell_type": "code",
   "execution_count": 18,
   "id": "ed3aaece",
   "metadata": {},
   "outputs": [
    {
     "name": "stdout",
     "output_type": "stream",
     "text": [
      "\n",
      "This function prints a greeting to the given name.\n",
      "\n",
      "Parameters:\n",
      "name (str): The name of the person to greet.\n",
      "\n",
      "Returns:\n",
      "None\n",
      " \n"
     ]
    }
   ],
   "source": [
    "print(response['choices'][0]['text'])"
   ]
  },
  {
   "cell_type": "code",
   "execution_count": 19,
   "id": "bee31fd9",
   "metadata": {},
   "outputs": [
    {
     "name": "stdout",
     "output_type": "stream",
     "text": [
      "<class 'str'>\n"
     ]
    }
   ],
   "source": [
    "# first line of the function (def myfunc():)\n",
    "# \"\"\"\n",
    "# DOCSTRING (Completion API)\n",
    "# \"\"\"\n",
    "# Rest of the function"
   ]
  },
  {
   "cell_type": "code",
   "execution_count": 81,
   "id": "7c4cfcb5",
   "metadata": {},
   "outputs": [],
   "source": [
    "def merge_docstring_and_function(original_function, docstring):\n",
    "    function_string = inspect.getsource(original_function)\n",
    "    split = function_string.split(\"\\n\")\n",
    "    first_part, second_part = split[0], split[1:]\n",
    "    docstring = docstring.replace('\\n', '\\n\\t') # Inserts a tab after every new line\n",
    "    merged_function = first_part + \"\\n\" + '\\t\"\"\"' + docstring + '\"\"\"\\n' + \"\\n\".join(second_part)\n",
    "    return merged_function"
   ]
  },
  {
   "cell_type": "code",
   "execution_count": 82,
   "id": "67de7ee4",
   "metadata": {},
   "outputs": [
    {
     "name": "stdout",
     "output_type": "stream",
     "text": [
      "def hello(name):\n",
      "\t\"\"\"\n",
      "\tThis function takes in a test string and the number of questions in the test as parameters and returns a dictionary with the questions as keys and the corresponding question text as values.\n",
      "\t\n",
      "\tParameters:\n",
      "\ttest (str): The test string containing the questions and answers.\n",
      "\tnum_questions (int): The number of questions in the test.\n",
      "\t\n",
      "\tReturns:\n",
      "\tstudent_view (dict): A dictionary with the questions as keys and the corresponding question text as values.\n",
      "\t\n",
      "\t\"\"\"\n",
      "    print(f\"Hello {name}\")\n",
      "\n"
     ]
    }
   ],
   "source": [
    "print(merge_docstring_and_function(hello, response['choices'][0]['text']))"
   ]
  },
  {
   "cell_type": "code",
   "execution_count": 28,
   "id": "c99bd337",
   "metadata": {},
   "outputs": [],
   "source": [
    "# def hello_v2 (name, pet):\n",
    "#     print(f\"Hello {name}\")\n",
    "#     print(f\"feed {pet}\")\n",
    "#     print(\"all done\")\n",
    "    \n",
    "#     second_part = inspect.getsource(hello_v2).split('\\n')[1:]\n",
    "# print(\"\\n\".join(second_part))"
   ]
  },
  {
   "cell_type": "code",
   "execution_count": 53,
   "id": "e3b3da77",
   "metadata": {},
   "outputs": [],
   "source": [
    "def test_function(test, num_questions):\n",
    "    student_view = {1 : \"\"}\n",
    "    question_number = 1\n",
    "    for line in test.split(\"\\n\"):\n",
    "        if not line.startswith(\"Correct Answer:\"):\n",
    "            student_view[question_number] += line+\"\\n\"\n",
    "        else:\n",
    "\n",
    "            if question_number < num_questions:\n",
    "                question_number+=1\n",
    "                student_view[question_number] = \"\"\n",
    "    return student_view"
   ]
  },
  {
   "cell_type": "code",
   "execution_count": 63,
   "id": "1777845e",
   "metadata": {},
   "outputs": [],
   "source": [
    "def create_docstring(function):\n",
    "    response = openai.Completion.create(\n",
    "      model= 'text-davinci-003',\n",
    "      prompt=docstring_prompt(inspect.getsource(function)),\n",
    "      temperature=0,\n",
    "      max_tokens=256,\n",
    "      top_p=1.0,\n",
    "      frequency_penalty=0.0,\n",
    "      presence_penalty=0.0,\n",
    "      stop=[\"\\\"\\\"\\\"\"] # Corresponds to \"\"\", the end of the docstring\n",
    "    )\n",
    "    return merge_docstring_and_function(function, response['choices'][0]['text'])"
   ]
  },
  {
   "cell_type": "code",
   "execution_count": 66,
   "id": "9728918d",
   "metadata": {},
   "outputs": [
    {
     "name": "stdout",
     "output_type": "stream",
     "text": [
      "def test_function(test, num_questions):\n",
      "    \"\"\"   \n",
      "This function takes in a test string and the number of questions in the test as parameters and returns a dictionary with the questions as keys and the corresponding question text as values.\n",
      "\n",
      "Parameters:\n",
      "test (str): The test string containing the questions and answers.\n",
      "num_questions (int): The number of questions in the test.\n",
      "\n",
      "Returns:\n",
      "student_view (dict): A dictionary with the questions as keys and the corresponding question text as values.\n",
      "\n",
      "    \"\"\"\n",
      "    student_view = {1 : \"\"}\n",
      "    question_number = 1\n",
      "    for line in test.split(\"\\n\"):\n",
      "        if not line.startswith(\"Correct Answer:\"):\n",
      "            student_view[question_number] += line+\"\\n\"\n",
      "        else:\n",
      "\n",
      "            if question_number < num_questions:\n",
      "                question_number+=1\n",
      "                student_view[question_number] = \"\"\n",
      "    return student_view\n",
      "\n"
     ]
    }
   ],
   "source": [
    "print(create_docstring(test_function))"
   ]
  },
  {
   "cell_type": "code",
   "execution_count": null,
   "id": "f523366f",
   "metadata": {},
   "outputs": [],
   "source": []
  }
 ],
 "metadata": {
  "kernelspec": {
   "display_name": "Python 3 (ipykernel)",
   "language": "python",
   "name": "python3"
  },
  "language_info": {
   "codemirror_mode": {
    "name": "ipython",
    "version": 3
   },
   "file_extension": ".py",
   "mimetype": "text/x-python",
   "name": "python",
   "nbconvert_exporter": "python",
   "pygments_lexer": "ipython3",
   "version": "3.10.9"
  }
 },
 "nbformat": 4,
 "nbformat_minor": 5
}
