{
 "cells": [
  {
   "cell_type": "code",
   "execution_count": 1,
   "id": "238fa282",
   "metadata": {},
   "outputs": [],
   "source": [
    "# # Chatgpt email example\n",
    "\n",
    "# import smtplib\n",
    "\n",
    "# # Set up the email content\n",
    "# sender = 'mhuh1993@gmail.com'\n",
    "# recipient = 'mhuh.sea@gmail.com'\n",
    "# subject = 'Email sent by ChatGPT'\n",
    "# body = 'ChatGPT rocks!'\n",
    "# message = f'Subject: {subject}\\n\\n{body}'\n",
    "\n",
    "# # Set up the SMTP server and send the email\n",
    "# smtp_server = 'smtp.gmail.com'\n",
    "# smtp_port = 587\n",
    "# username = 'mhuh1993@gmail.com'\n",
    "# password = 'your-password-here'\n",
    "\n",
    "# with smtplib.SMTP(smtp_server, smtp_port) as server:\n",
    "#     server.starttls()\n",
    "#     server.login(username, password)\n",
    "#     server.sendmail(sender, recipient, message)\n",
    "    \n",
    "# print('Email sent!')"
   ]
  },
  {
   "cell_type": "code",
   "execution_count": 5,
   "id": "292d9297",
   "metadata": {},
   "outputs": [],
   "source": [
    "# # Chatgpt web scraping example 2\n",
    "\n",
    "# import requests\n",
    "# from bs4 import BeautifulSoup\n",
    "\n",
    "# # make a request to the website\n",
    "# response = requests.get('https://books.toscrape.com/')\n",
    "\n",
    "# # parse the HTML content using Beautiful Soup\n",
    "# soup = BeautifulSoup(response.content, 'html.parser')\n",
    "\n",
    "# # find all the book containers on the page\n",
    "# books = soup.find_all('article', class_='product_pod')\n",
    "\n",
    "# # iterate over each book container and print the title, price, and rating on a single line\n",
    "# for book in books:\n",
    "#     title = book.h3.a.get('title')\n",
    "#     price = book.select('.price_color')[0].get_text()\n",
    "#     rating = book.p.get('class')[1]\n",
    "#     print(f'{title} - {price} - {rating}')\n"
   ]
  },
  {
   "cell_type": "code",
   "execution_count": 9,
   "id": "1424f0b5",
   "metadata": {},
   "outputs": [
    {
     "name": "stdout",
     "output_type": "stream",
     "text": [
      "Blind Detective\n",
      "Killer Workout\n",
      "Budapest Noir\n",
      "Firefly\n",
      "Warriors of the Rainbow: Seediq Bale II\n",
      "Sex Appeal\n",
      "Lonesome\n",
      "Corri uomo corri\n",
      "Faraway\n",
      "The Treasure of Swamp Castle\n"
     ]
    }
   ],
   "source": [
    "import requests\n",
    "from bs4 import BeautifulSoup\n",
    "\n",
    "# # make a GET request to the website\n",
    "# url = \"https://subslikescript.com/\"\n",
    "# response = requests.get(url)\n",
    "\n",
    "# # create a BeautifulSoup object with the content of the response\n",
    "# soup = BeautifulSoup(response.content, \"html.parser\")\n",
    "\n",
    "# Workaround for 403 errors\n",
    "with open('subslikescript.html') as file:\n",
    "    html = file.read()\n",
    "\n",
    "soup = BeautifulSoup(html, 'html.parser')\n",
    "\n",
    "# find the 'ul' tag with class 'scripts-list'\n",
    "scripts_list = soup.find(\"ul\", class_=\"scripts-list\")\n",
    "\n",
    "# find all the 'a' tags inside the 'ul' tag\n",
    "script_links = scripts_list.find_all(\"a\")\n",
    "\n",
    "# print the text of each 'a' tag\n",
    "for link in script_links:\n",
    "    print(link.text.strip())\n"
   ]
  },
  {
   "cell_type": "code",
   "execution_count": 17,
   "id": "892d9e8a",
   "metadata": {},
   "outputs": [
    {
     "name": "stderr",
     "output_type": "stream",
     "text": [
      "C:\\Users\\mhuh22\\AppData\\Local\\Temp\\ipykernel_16836\\3890680132.py:7: DeprecationWarning: executable_path has been deprecated, please pass in a Service object\n",
      "  driver = webdriver.Chrome(r'C:\\Users\\mhuh22\\anaconda3\\lib\\site-packages')\n",
      "Incompatible release of chromedriver (version 114.0.5735.16) detected in PATH: C:\\Users\\mhuh22\\anaconda3\\Lib\\site-packages\\chromedriver_binary\\chromedriver.exe\n"
     ]
    },
    {
     "ename": "AttributeError",
     "evalue": "'WebDriver' object has no attribute 'find_elements_by_xpath'",
     "output_type": "error",
     "traceback": [
      "\u001b[1;31m---------------------------------------------------------------------------\u001b[0m",
      "\u001b[1;31mAttributeError\u001b[0m                            Traceback (most recent call last)",
      "Cell \u001b[1;32mIn[17], line 14\u001b[0m\n\u001b[0;32m     11\u001b[0m time\u001b[38;5;241m.\u001b[39msleep(\u001b[38;5;241m5\u001b[39m)\n\u001b[0;32m     13\u001b[0m \u001b[38;5;66;03m# Locate elements\u001b[39;00m\n\u001b[1;32m---> 14\u001b[0m elements \u001b[38;5;241m=\u001b[39m \u001b[43mdriver\u001b[49m\u001b[38;5;241;43m.\u001b[39;49m\u001b[43mfind_elements_by_xpath\u001b[49m(\u001b[38;5;124m\"\u001b[39m\u001b[38;5;124m//span[@class=\u001b[39m\u001b[38;5;124m'\u001b[39m\u001b[38;5;124ma-size-base-plus a-color--base a-text-normal\u001b[39m\u001b[38;5;124m'\u001b[39m\u001b[38;5;124m]\u001b[39m\u001b[38;5;124m\"\u001b[39m)\n\u001b[0;32m     16\u001b[0m \u001b[38;5;66;03m# Print elements\u001b[39;00m\n\u001b[0;32m     17\u001b[0m \u001b[38;5;28;01mfor\u001b[39;00m element \u001b[38;5;129;01min\u001b[39;00m elements:\n",
      "\u001b[1;31mAttributeError\u001b[0m: 'WebDriver' object has no attribute 'find_elements_by_xpath'"
     ]
    }
   ],
   "source": [
    "# import the necessary packages\n",
    "\n",
    "from selenium import webdriver\n",
    "import time\n",
    "\n",
    "# Open Chrome\n",
    "driver = webdriver.Chrome(r'C:\\Users\\mhuh22\\anaconda3\\lib\\site-packages')\n",
    "\n",
    "# Go to the website\n",
    "driver.get('https://www.amazon.com/s?k=self+help+books&crid=2CQEQFVAX581R&sprefix=self+help+books%2Caps%2C83&ref=nb_sb_noss_2')\n",
    "time.sleep(5)\n",
    "\n",
    "# Locate elements\n",
    "elements = driver.find_elements_by_xpath(\"//span[@class='a-size-base-plus a-color--base a-text-normal']\")\n",
    "\n",
    "# Print elements\n",
    "for element in elements:\n",
    "    print(element.text)\n",
    "\n",
    "# Close Chrome\n",
    "driver.close()"
   ]
  },
  {
   "cell_type": "code",
   "execution_count": 14,
   "id": "62e706aa",
   "metadata": {},
   "outputs": [
    {
     "name": "stdout",
     "output_type": "stream",
     "text": [
      "Collecting chromedriver-binary\n",
      "  Downloading chromedriver-binary-114.0.5735.16.0.tar.gz (5.1 kB)\n",
      "  Preparing metadata (setup.py): started\n",
      "  Preparing metadata (setup.py): finished with status 'done'\n",
      "Building wheels for collected packages: chromedriver-binary\n",
      "  Building wheel for chromedriver-binary (setup.py): started\n",
      "  Building wheel for chromedriver-binary (setup.py): finished with status 'done'\n",
      "  Created wheel for chromedriver-binary: filename=chromedriver_binary-114.0.5735.16.0-py3-none-any.whl size=6566176 sha256=1ddd39a35262cfc3c4461bd82e66ebd7461f9d36f12adbaad9f92025f626270c\n",
      "  Stored in directory: c:\\users\\mhuh22\\appdata\\local\\pip\\cache\\wheels\\17\\2a\\68\\119c0ba06aaebc532f83b9146384dcbecbe1ed0e6cf52f37a7\n",
      "Successfully built chromedriver-binary\n",
      "Installing collected packages: chromedriver-binary\n",
      "Successfully installed chromedriver-binary-114.0.5735.16.0\n",
      "Note: you may need to restart the kernel to use updated packages.\n"
     ]
    }
   ],
   "source": [
    "pip install chromedriver-binary"
   ]
  },
  {
   "cell_type": "code",
   "execution_count": 15,
   "id": "4dd081f6",
   "metadata": {},
   "outputs": [
    {
     "name": "stdout",
     "output_type": "stream",
     "text": [
      "C:\\Users\\mhuh22\\anaconda3\\lib\\site-packages\\chromedriver_binary\\__init__.py\n"
     ]
    }
   ],
   "source": [
    "import chromedriver_binary\n",
    "print(chromedriver_binary.__file__)"
   ]
  },
  {
   "cell_type": "code",
   "execution_count": null,
   "id": "7ea5e86b",
   "metadata": {},
   "outputs": [],
   "source": []
  }
 ],
 "metadata": {
  "kernelspec": {
   "display_name": "Python 3 (ipykernel)",
   "language": "python",
   "name": "python3"
  },
  "language_info": {
   "codemirror_mode": {
    "name": "ipython",
    "version": 3
   },
   "file_extension": ".py",
   "mimetype": "text/x-python",
   "name": "python",
   "nbconvert_exporter": "python",
   "pygments_lexer": "ipython3",
   "version": "3.10.9"
  }
 },
 "nbformat": 4,
 "nbformat_minor": 5
}
